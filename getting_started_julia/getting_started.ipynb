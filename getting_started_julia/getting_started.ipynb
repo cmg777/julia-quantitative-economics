{
 "cells": [
  {
   "cell_type": "markdown",
   "id": "96c15a3a",
   "metadata": {},
   "source": [
    "\n",
    "<a id='getting-started'></a>"
   ]
  },
  {
   "cell_type": "markdown",
   "id": "c5dbc5fe",
   "metadata": {},
   "source": [
    "# Setting up Your Julia Environment"
   ]
  },
  {
   "cell_type": "markdown",
   "id": "cc740f5d",
   "metadata": {},
   "source": [
    "## Contents\n",
    "\n",
    "- [Setting up Your Julia Environment](#Setting-up-Your-Julia-Environment)  \n",
    "  - [Overview](#Overview)  \n",
    "  - [A Note on Jupyter](#A-Note-on-Jupyter)  \n",
    "  - [Desktop Installation of Julia and Jupyter](#Desktop-Installation-of-Julia-and-Jupyter)  \n",
    "  - [Setting up Git and VS Code](#Setting-up-Git-and-VS-Code)  \n",
    "  - [Downloading the Notebooks](#Downloading-the-Notebooks)  \n",
    "  - [Installing Packages](#Installing-Packages)  \n",
    "  - [Running JupyterLab](#Running-JupyterLab)  \n",
    "  - [Refreshing the Notebooks after Modification](#Refreshing-the-Notebooks-after-Modification)  \n",
    "  - [Interacting with Julia](#Interacting-with-Julia)  \n",
    "  - [Using Jupyter](#Using-Jupyter)  "
   ]
  },
  {
   "cell_type": "markdown",
   "id": "2dc3b0b4",
   "metadata": {},
   "source": [
    "## Overview\n",
    "\n",
    "In this lecture we will cover how to get up and running with Julia.\n",
    "\n",
    "While there are alternative ways to access Julia (e.g. if you have a JupyterHub provided by your university), this section assumes you will install it to your [local desktop](#jl-jupyterlocal).\n",
    "\n",
    "It is not strictly required for running the lectures, but we will strongly encourage installing and using [Visual Studio Code (VS Code)](https://code.visualstudio.com/).\n",
    "\n",
    "As the most popular and best-supported open-source code editor, it provides a large number of useful features and extensions.  We will begin to use it as a primary editor in the [tools lecture](https://julia.quantecon.org/../software_engineering/tools_editors.html)."
   ]
  },
  {
   "cell_type": "markdown",
   "id": "b741cdc0",
   "metadata": {},
   "source": [
    "## A Note on Jupyter\n",
    "\n",
    "Like Python and R, and unlike products such as Matlab and Stata, there is a looser connection between Julia as a programming language and Julia as a specific development environment.\n",
    "\n",
    "While you will eventually use other editors, there are some advantages to starting with the [Jupyter](http://jupyter.org/) environment while learning Julia.\n",
    "\n",
    "- The ability to mix formatted text (including mathematical expressions) and code in a single document.  \n",
    "- Nicely formatted output including tables, figures, animation, video, etc.  \n",
    "- Conversion tools to generate PDF slides, static HTML, etc.  \n",
    "\n",
    "\n",
    "We’ll discuss the workflow on these features in the [next section](#julia-environment)"
   ]
  },
  {
   "cell_type": "markdown",
   "id": "f07780a8",
   "metadata": {},
   "source": [
    "## Quick installation for experienced users\n",
    "\n",
    "If you have already installed Jupyter, Julia, and Git and have experience with these tools, you can\n",
    "\n",
    "- Get the notebooks’ repositories with `git clone https://github.com/quantecon/lecture-julia.notebooks`  \n",
    "- Open a Jupyter notebook within the downloaded notebooks  \n",
    "- Install the necessary packages in a Julia REPL with `using Pkg; Pkg.instantiate()`  \n",
    "\n",
    "\n",
    "At that point, you could directly move on to the [julia by example](https://julia.quantecon.org/julia_by_example.html) lecture.\n",
    "\n",
    "However, as we strongly recommend becoming familiar with VS Code as a transition towards using more advanced tools and to support better software engineering workflows, so consider walking through the rest of these instructions.\n",
    "\n",
    "For those with little to no programming experience (e.g. you have never used a loop or “if” statement) see the list of [introductory resources](https://julia.quantecon.org/julia_by_example.html#intro-resources).\n",
    "\n",
    "\n",
    "<a id='jl-jupyterlocal'></a>"
   ]
  },
  {
   "cell_type": "markdown",
   "id": "1d616bb6",
   "metadata": {},
   "source": [
    "## Desktop Installation of Julia and Jupyter\n",
    "\n",
    "In this section, we will describe the installation of Julia and Jupyter on your desktop.\n",
    "\n",
    "On Windows, you probably want to install the new open-source [Windows Terminal](https://github.com/microsoft/terminal).  See [here](https://aka.ms/terminal) for installation instructions, and select the option to add the explorer context menu if provided.\n",
    "\n",
    "It provides a much more modern terminal with better font support for Julia, and with better operating system integration.  For example, you can right-click on a folder in the File Explorer and choose `Open in Microsoft Terminal` to start a terminal in that location.  Rather than providing a particular shell directly, it hosts those that are available in your setup (e.g., PowerShell, Git Bash, Ubuntu Bash in WSL).\n",
    "\n",
    "\n",
    "<a id='install-jupyter'></a>"
   ]
  },
  {
   "cell_type": "markdown",
   "id": "15951ef6",
   "metadata": {},
   "source": [
    "### Installing Jupyter\n",
    "\n",
    "[Anaconda](https://www.anaconda.com/) provides an easy to install package of jupyter, python, and many data science tools.\n",
    "\n",
    "If you have not previously installed Conda or Jupyter, then\n",
    "\n",
    "1. Download the binary ([https://www.anaconda.com/download/](https://www.anaconda.com/download/)) and follow the [installation instructions](https://conda.io/projects/conda/en/latest/user-guide/install/index.html) for your platform.  \n",
    "1. If given the option for your operating system, let Conda add Python to your PATH environment variables.  \n",
    "\n",
    "\n",
    ">**Note**\n",
    ">\n",
    ">While Conda is the easiest way to install jupyter, it is not strictly required.  With any python you can install with `pip install jupyter`.  Alternatively you can let `IJulia` install its own version of Conda by following [these instructions](https://julialang.github.io/IJulia.jl/dev/manual/running/), or use the experimental support for [Jupyter notebooks in VS Code](https://marketplace.visualstudio.com/items?itemName=ms-toolsai.jupyter) - which does no Python installation at all.\n",
    "\n",
    "\n",
    "<a id='intro-repl'></a>"
   ]
  },
  {
   "cell_type": "markdown",
   "id": "367c273c",
   "metadata": {},
   "source": [
    "### Install Julia\n",
    "\n",
    "After Conda is installed, you can install Julia.\n",
    "\n",
    "1. Download and install Julia, from [download page](http://julialang.org/downloads/), accepting all default options.  \n",
    "1. Open Julia, by either  \n",
    "  - Navigating to Julia through your menus or desktop icons (Windows, Mac), or  \n",
    "  - Opening a terminal and type `julia` (Linux; to set this up on macOS, see [here](https://julialang.org/downloads/platform/#macos)).  \n",
    "  You should now be looking at something like this  \n",
    "  ![https://julia.quantecon.org/_static/figures/julia_term_1.png](https://julia.quantecon.org/_static/figures/julia_term_1.png)\n",
    "  \n",
    "    \n",
    "  This is called the JULIA *REPL* (Read-Evaluate-Print-Loop), which we discuss more [later](https://julia.quantecon.org/../software_engineering/tools_editors.html#repl-main).  \n",
    "1. In the Julia REPL, hit `]` to enter package mode and then enter:  "
   ]
  },
  {
   "cell_type": "code",
   "execution_count": null,
   "id": "48cab9dd",
   "metadata": {
    "hide-output": false
   },
   "outputs": [],
   "source": [
    "add IJulia"
   ]
  },
  {
   "cell_type": "markdown",
   "id": "c0c5d92f",
   "metadata": {},
   "source": [
    "This adds packages for the `IJulia` kernel which links Julia to Jupyter you previously installed with Anaconda (i.e., allows your browser to run Julia code, manage Julia packages, etc.).  \n",
    "1. You can exit the julia REPL by hitting backspace to exit the package mode, and then  "
   ]
  },
  {
   "cell_type": "code",
   "execution_count": null,
   "id": "dab741ad",
   "metadata": {
    "hide-output": false
   },
   "outputs": [],
   "source": [
    "exit()"
   ]
  },
  {
   "cell_type": "markdown",
   "id": "63573e03",
   "metadata": {},
   "source": [
    "\n",
    "\n",
    ">**Note**\n",
    ">\n",
    ">As entering of the package mode is so common in these notes, we will denote this with a `] IJulia`, etc.  On Windows and in Jupyter, you can directly copy this into your terminal, whereas on Linux and macOS you may need to manually enter the package mode.\n",
    "\n",
    "\n",
    "<a id='initial-vscode-setup'></a>"
   ]
  },
  {
   "cell_type": "markdown",
   "id": "1a96f982",
   "metadata": {},
   "source": [
    "## Setting up Git and VS Code\n",
    "\n",
    "A primary benefit of using [open-source](https://en.wikipedia.org/wiki/Open-source_software) languages such as Julia, Python, and R is that they can enable far better workflows for both collaboration and [reproducible research](https://en.wikipedia.org/wiki/Reproducibility#Reproducible_research).\n",
    "\n",
    "Reproducibility will ensure that you, your future self, your collaborators, and eventually the public will be able to run the exact code with the identical environment with which you provided the results - or even roll back to a snapshot in the past where the results may have been different in order to compare.\n",
    "\n",
    "We will explore these topics in detail in the lectures on [source code control](https://julia.quantecon.org/../software_engineering/version_control.html) and [continuous integration and test-driven development](https://julia.quantecon.org/../software_engineering/testing.html), but it is worth installing and beginning to use these tools immediately.\n",
    "\n",
    "First, we will install [Git](https://julia.quantecon.org/../software_engineering/version_control.html#more-on-git), which has become the industry standard open-source version-control tool.  This lets you download both the files and the entire version history from a server (e.g. on GitHub) to your desktop.\n",
    "\n",
    "1. Install [Git](https://git-scm.com/book/en/v2/Getting-Started-Installing-Git/) and accept the default arguments.  \n",
    "  - If you allow Git to add to your path, then you can run it with the `git` command, but we will frequently use the built-in VS Code features.  \n",
    "1. (Optional) Install [VS Code](https://code.visualstudio.com/) for your platform and open it  \n",
    "  - On Windows, during install under `Select Additional Tasks`, choose all options that begin with `Add \"Open with Code\" action`. This lets you open VS Code from inside File Explorer folders directly.  \n",
    "  - While optional, we find the experience with VS Code will be much easier and the transition to more advanced tools will be more seamless.  \n",
    "1. (Optional) Install the [VS Code Julia](https://marketplace.visualstudio.com/items?itemName=julialang.language-julia) extension  \n",
    "  - After installation of VS Code, you should be able to choose `Install` on the webpage of any extensions and it will open on your desktop.  \n",
    "  - Otherwise: run VS Code and open the extensions with `<Ctrl+Shift+X>` or selecting extensions in the left-hand side of the VS Code window.  Then search for `Julia` in the Marketplace.  \n",
    "  ![https://julia.quantecon.org/_static/figures/vscode_intro_0.png](https://julia.quantecon.org/_static/figures/vscode_intro_0.png)\n",
    "  \n",
    "    \n",
    "  - No further configuration should be required, but see [here](https://julia.quantecon.org/../software_engineering/tools_editors.html#install-vscode) if you have issues.  \n",
    "\n",
    "\n",
    "The VS Code and the VS Code Julia extension will help us better manage environments during our initial setup, and will provide a seamless transition to the more [advanced tools](https://julia.quantecon.org/../software_engineering/tools_editors.html).\n",
    "\n",
    "\n",
    "<a id='command-palette'></a>"
   ]
  },
  {
   "cell_type": "markdown",
   "id": "94880d14",
   "metadata": {},
   "source": [
    "### Command Palette on VS Code\n",
    "\n",
    "A key feature within VS Code is the [Command Palette](https://code.visualstudio.com/docs/getstarted/userinterface#_command-palette), which can be accessed with `<Ctrl+Shift+P>` or `View > Command Palette...` in the menus.\n",
    "\n",
    "![https://code.visualstudio.com/assets/docs/getstarted/userinterface/commands.png](https://code.visualstudio.com/assets/docs/getstarted/userinterface/commands.png)\n",
    "\n",
    "  \n",
    "This is so common that in these notes we\n",
    "denote opening the command palette and searching for a command with things like `> Julia: Start REPL` , etc.\n",
    "\n",
    "You can type partial strings for different commands and it helps you to find features of vscode and its extensions.  Furthermore, the command palette remembers your most recent and common commands.\n",
    "\n",
    "[Integrated Terminals](https://code.visualstudio.com/docs/editor/integrated-terminal) within VS Code are a convenient because they are local to that project, detect hypertext links, and provide better fonts.\n",
    "\n",
    "To launch a terminal, use either (1) `<Ctrl+`>`, (2) `>View: Toggle Terminal` with the command palette, or (3) `View > Terminal` in the menus.\n",
    "\n",
    ">**Note**\n",
    ">\n",
    ">Becoming comfortable with VS Code and tools for source code control/software engineering is an essential step towards ensuring reproducibility.  An easy way to begin that process is to start using VS Code to edit LaTeX, and practice managing your `.tex` files in GitHub rather than dropbox or similar alternatives.  While not directly connected to Julia, this familiarity will make everything easier - even for proprietary languages such as Stata and Matlab.  See [here](https://julia.quantecon.org/../software_engineering/tools_editors.html#vscode-latex) for instructions on this setup process.\n",
    "\n",
    "\n",
    "<a id='clone-lectures'></a>"
   ]
  },
  {
   "cell_type": "markdown",
   "id": "6c0ce8c6",
   "metadata": {},
   "source": [
    "## Downloading the Notebooks\n",
    "\n",
    "Next, let’s install the QuantEcon lecture notes to our machine and run them (for more details on the tools we’ll use, see our lecture on [version control](https://julia.quantecon.org/../software_engineering/version_control.html)).\n",
    "\n",
    "While the lecture notes can be cloned within VS Code directly, we will use the command-line to begin the introduction to source control tools.\n",
    "\n",
    "1. Choose and create if necessary a convenient parent folder where you would like the notebooks directory  \n",
    "  - The workflow will be easiest if you clone the repo to the default location relative to the home folder for your user.  \n",
    "  - For example, on Windows a good choice might be `c:\\Users\\YOURUSERNAME\\Documents\\GitHub` or simply `c:\\Users\\YOURUSERNAME\\Documents`.  On linux and macOS, your home directory `~` or `~/GitHub`.  \n",
    "1. Open a new terminal for your machine and navigate to the parent folder of where you wish to store the notebooks.  \n",
    "  - On Windows: if using the [Windows Terminal](https://aka.ms/terminal) you can simply right-click on the directory in the File Explorer and choose to “Open in Microsoft Terminal” or, alternatively “Git Bash Here” to use the terminal provided by Git.  On macOS, see [here](https://apple.stackexchange.com/questions/11323/how-can-i-open-a-terminal-window-directly-from-my-current-finder-location) for a discussion of different approaches.  \n",
    "1. Execute the following code in the terminal to download the entire suite of notebooks associated with these lectures.  "
   ]
  },
  {
   "cell_type": "markdown",
   "id": "98abea8d",
   "metadata": {
    "hide-output": false
   },
   "source": [
    "```bash\n",
    "git clone https://github.com/quantecon/lecture-julia.notebooks\n",
    "```\n"
   ]
  },
  {
   "cell_type": "markdown",
   "id": "5c3c7e71",
   "metadata": {},
   "source": [
    "This will download the repository with the notebooks into the directory `lecture-julia.notebooks` within your working directory.  \n",
    "1. Then, `cd` to that location in your terminal  "
   ]
  },
  {
   "cell_type": "markdown",
   "id": "be24f882",
   "metadata": {
    "hide-output": false
   },
   "source": [
    "```bash\n",
    "cd lecture-julia.notebooks\n",
    "```\n"
   ]
  },
  {
   "cell_type": "markdown",
   "id": "fc26ff3d",
   "metadata": {},
   "source": [
    "1. Finally, you can open this directory from your terminal with the following  "
   ]
  },
  {
   "cell_type": "markdown",
   "id": "b7a2551c",
   "metadata": {
    "hide-output": false
   },
   "source": [
    "```bash\n",
    "code .\n",
    "```\n"
   ]
  },
  {
   "cell_type": "markdown",
   "id": "c129c5ef",
   "metadata": {},
   "source": [
    "\n",
    "\n",
    "Which should provide a screen such as\n",
    "\n",
    "![https://julia.quantecon.org/_static/figures/vscode_intro_1.png](https://julia.quantecon.org/_static/figures/vscode_intro_1.png)"
   ]
  },
  {
   "cell_type": "markdown",
   "id": "ba6963d3",
   "metadata": {},
   "source": [
    "## Cloning Directly from VS Code\n",
    "\n",
    "Alternatively, if you are already a user of Visual Studio Code, you can clone within VS Code by using the `> Git: Clone` command from the [command palette](#command-palette).  See the lectures on [tools](https://julia.quantecon.org/../software_engineering/tools_editors.html) and [source code control](https://julia.quantecon.org/../software_engineering/version_control.html) for more details.\n",
    "\n",
    "\n",
    "<a id='install-packages'></a>"
   ]
  },
  {
   "cell_type": "markdown",
   "id": "d5799f2a",
   "metadata": {},
   "source": [
    "## Installing Packages\n",
    "\n",
    "After you have the notebooks available, as described in [the previous section](#clone-lectures), we can install the required packages for plotting, benchmarking, and statistics.\n",
    "\n",
    "For this, we will use the integrated terminal in VS Code.\n",
    "\n",
    "Recall that you can start this directly from the [command palette](#command-palette) with `<Ctrl+Shift+P>` then typing part of the `> Julia: Start REPL` command.\n",
    "\n",
    "![https://julia.quantecon.org/_static/figures/vscode_intro_2.png](https://julia.quantecon.org/_static/figures/vscode_intro_2.png)\n",
    "\n",
    "  \n",
    "1. Start a REPL; it may do an initial compilation of packages in the background, but will then look something like  \n",
    "  ![https://julia.quantecon.org/_static/figures/vscode_intro_3.png](https://julia.quantecon.org/_static/figures/vscode_intro_3.png)\n",
    "  \n",
    "    \n",
    "1. Next type `]` to enter the package mode, which should indicate that the local project is activated by changing the cursor to `(quantecon-notebooks-julia) pkg>`.  \n",
    "1. Type `instantiate` to install all of the packages required for these notes.  \n",
    "  ![https://julia.quantecon.org/_static/figures/vscode_intro_4.png](https://julia.quantecon.org/_static/figures/vscode_intro_4.png)\n",
    "  \n",
    "    \n",
    "\n",
    "\n",
    "This process will take several minutes to download and compile all of the files used by the lectures.\n",
    "\n",
    "If the cursor is instead `(@v1.6) pkg>` then you may not have started the integrated terminal in the correct location, or you used an external REPL.  Assuming that you are in the correct location, if you type `activate .` in the package mode, the cursor should change to `(quantecon-notebooks-julia) pkg>` as it activates this project file.\n",
    "\n",
    "One benefit of using the integrated REPL is that it will set important options for launching Julia (e.g. the number of threads) and activate the local project files (i.e. the `Project.toml` file in the notebooks directory) automatically.  If you use an external REPL, you will need to set these manually.  Here you would want to run the REPL with `julia --project --threads auto`  to tell Julia to set the number of threads equal to your local machine’s number of cores, and to activate the existing project.  See [here](https://julia.quantecon.org/../software_engineering/tools_editors.html#repl-main) for more details.\n",
    "\n",
    "\n",
    "<a id='running-jupyterlab'></a>"
   ]
  },
  {
   "cell_type": "markdown",
   "id": "4044b8a7",
   "metadata": {},
   "source": [
    "## Running JupyterLab\n",
    "\n",
    "You can start Jupyter within any directory by executing the following in a terminal"
   ]
  },
  {
   "cell_type": "markdown",
   "id": "b50d19b4",
   "metadata": {
    "hide-output": false
   },
   "source": [
    "```bash\n",
    "jupyter lab\n",
    "```\n"
   ]
  },
  {
   "cell_type": "markdown",
   "id": "06160420",
   "metadata": {},
   "source": [
    "This runs a process giving Jupyter permission to access this directory, but not its parents.  This is especially convenient to do in VS Code since we have already navigated to this directory:\n",
    "\n",
    "1. If the Julia REPL is still open, create a new terminal by clicking on the `+` button on the terminal pane and create a new terminal appropriate for your operating system.  Close the Julia REPL if you wish.  \n",
    "  ![https://julia.quantecon.org/_static/figures/vscode_intro_5.png](https://julia.quantecon.org/_static/figures/vscode_intro_5.png)\n",
    "  \n",
    "    \n",
    "  - [As before](#command-palette), if the terminal pane is not available, use `<Ctrl+`>` or `>View: Toggle Terminal` to see the pane.  \n",
    "  - You can close the Julia REPL if you wish, or create multiple terminals in this interface  \n",
    "1. Within the new terminal, execute `jupyter lab`.  This should run in the background in this terminal, with output such as  \n",
    "  ![https://julia.quantecon.org/_static/figures/vscode_intro_6.png](https://julia.quantecon.org/_static/figures/vscode_intro_6.png)\n",
    "  \n",
    "    \n",
    "\n",
    "\n",
    "The process should launch a webpage on your desktop, which may look like\n",
    "\n",
    "![https://julia.quantecon.org/_static/figures/jupyterlab_first.png](https://julia.quantecon.org/_static/figures/jupyterlab_first.png)\n",
    "\n",
    "  \n",
    "If it does not start automatically, use the link at the bottom of the output in the terminal (which should show with `Follow link (ctrl + click`).\n",
    "\n",
    "Proceed to the next section on [Jupyter](#julia-environment) to explore this interface and start writing code.\n",
    "\n",
    "\n",
    "<a id='reset-notebooks'></a>"
   ]
  },
  {
   "cell_type": "markdown",
   "id": "8fd4f135",
   "metadata": {},
   "source": [
    "## Refreshing the Notebooks after Modification\n",
    "\n",
    "As you work through the notebooks, you may wish to reset these to the most recent version on the server.\n",
    "\n",
    "1. To see this, modify one of the notebooks in Jupyter, and then go back to VS Code, which should now highlight on the left hand side that one or more modified files have been modified.  \n",
    "1. Choose the highlighted “Source Control” pane, or use `<Ctrl+Shift+G>`; then it will summarize all of the modified files.  \n",
    "1. To revert back to the versions you previously downloaded, right click on “Changes” and then choose `Discard All Changes`:  \n",
    "\n",
    "\n",
    "![https://julia.quantecon.org/_static/figures/vscode_intro_7.png](https://julia.quantecon.org/_static/figures/vscode_intro_7.png)\n",
    "\n",
    "  \n",
    "Additionally, if the notebooks themselves are modified as the lecture notes evolve, you can first discard any changes, and then either use `> Git: Pull` command or click on the arrow next to “main” on the bottom left of the screen to download the latest versions. Here “main” refers to the main branch of the repo where the latest versions are hosted.\n",
    "\n",
    "If the `Project.toml` or `Manifest.toml` files are modified, then after reverting you will want to redo the [instantiation](#install-packages) step to ensure you have the correct versions.\n",
    "\n",
    "We will explore these sorts of features, and how to use them for your own projects, in the [source code control](https://julia.quantecon.org/../software_engineering/version_control.html) lecture.\n",
    "\n",
    "\n",
    "<a id='julia-environment'></a>"
   ]
  },
  {
   "cell_type": "markdown",
   "id": "ade56c14",
   "metadata": {},
   "source": [
    "## Interacting with Julia\n",
    "\n",
    "Next, we’ll start examining different features of the Julia and Jupyter environments.\n",
    "\n",
    "While we emphasize a [local installation of Jupyter](#jl-jupyterlocal), other alternatives exist.\n",
    "\n",
    "For example,\n",
    "\n",
    "- Some universities may have JupyterHub installations available - which provide a hosted Jupyter environment.  However, it would require the hub to have explicit Julia support.  \n",
    "- VS Code has rapidly progressing [support for Jupyter](https://code.visualstudio.com/docs/datascience/jupyter-notebooks) using an existing Jupyter installation.  \n",
    "- The combination of the new [VS Code Jupyter](https://julia.quantecon.org/../software_engineering/tools_editors.html#optional-extensions) and [VS Code Julia](https://julia.quantecon.org/../software_engineering/tools_editors.html#install-vscode) extensions supports Jupyter notebooks without even a fragile Conda/python installation  \n",
    "- Online services such as [JuliaHub](https://juliahub.com/lp/) provide a tailored experience for Julia.  Be warned, however, that [Colab](https://colab.research.google.com/) and others are only designed for Python, and adding Julia requires a great deal of effort.  "
   ]
  },
  {
   "cell_type": "markdown",
   "id": "725fd487",
   "metadata": {},
   "source": [
    "## Using Jupyter\n",
    "\n",
    "\n",
    "<a id='ipython-notebook'></a>"
   ]
  },
  {
   "cell_type": "markdown",
   "id": "fc639fad",
   "metadata": {},
   "source": [
    "### Getting Started\n",
    "\n",
    ">**Note**\n",
    ">\n",
    ">The easiest way to get started with these notebooks is to follow the [cloning instructions](#clone-lectures) earlier.\n",
    "\n",
    "Launch `jupyter lab` and navigate to this notebook(i.e. `getting_started_julia/getting_started.ipynb` )\n",
    "\n",
    "See [here](#running-jupyterlab) for the previous instructions on launching Jupyter Lab.\n",
    "\n",
    "Your web browser should open to a page that looks something like this\n",
    "\n",
    "![https://julia.quantecon.org/_static/figures/starting_nb_julia.png](https://julia.quantecon.org/_static/figures/starting_nb_julia.png)\n",
    "\n",
    "  \n",
    "The page you are looking at is called the “dashboard”.\n",
    "\n",
    "If you click on “Julia 1.x.x” under “Notebook” you should have the option to start a Julia notebook.\n",
    "\n",
    "Here’s what your Julia notebook should look like\n",
    "\n",
    "![https://julia.quantecon.org/_static/figures/nb2_julia.png](https://julia.quantecon.org/_static/figures/nb2_julia.png)\n",
    "\n",
    "  \n",
    "The notebook displays an *active cell*, into which you can type Julia commands."
   ]
  },
  {
   "cell_type": "markdown",
   "id": "166c13dd",
   "metadata": {},
   "source": [
    "### Notebook Basics\n",
    "\n",
    "Notice that in the previous figure the cell is surrounded by a blue border.\n",
    "\n",
    "This means that the cell is selected, and double-clicking will place it in edit mode.\n",
    "\n",
    "As a result, you can type in Julia code and it will appear in the cell.\n",
    "\n",
    "When you’re ready to execute these commands, hit `Shift-Enter`\n",
    "\n",
    "![https://julia.quantecon.org/_static/figures/nb3_julia.png](https://julia.quantecon.org/_static/figures/nb3_julia.png)"
   ]
  },
  {
   "cell_type": "markdown",
   "id": "a8f69689",
   "metadata": {},
   "source": [
    "#### Modal Editing\n",
    "\n",
    "The next thing to understand about the Jupyter notebook is that it uses a *modal* editing system.\n",
    "\n",
    "This means that the effect of typing at the keyboard **depends on which mode you are in**.\n",
    "\n",
    "The two modes are\n",
    "\n",
    "1. Edit mode  \n",
    "  - Indicated by a blue border around one cell, as in the pictures above.  \n",
    "  - Whatever you type appears as is in that cell.  \n",
    "1. Command mode  \n",
    "  - The blue border disappears and turns into a plain grey border.  \n",
    "  - Key strokes are interpreted as commands — for example, typing b adds a new cell below  the current one.  \n",
    "\n",
    "\n",
    "(To learn about other commands available in command mode, go to “Keyboard Shortcuts” in the “Help” menu)"
   ]
  },
  {
   "cell_type": "markdown",
   "id": "eac4da8b",
   "metadata": {},
   "source": [
    "#### Switching modes\n",
    "\n",
    "- To switch to command mode from edit mode, hit the `Esc` key.  \n",
    "- To switch to edit mode from command mode, hit `Enter` or click in a cell.  \n",
    "\n",
    "\n",
    "The modal behavior of the Jupyter notebook is a little tricky at first but very efficient when you get used to it."
   ]
  },
  {
   "cell_type": "markdown",
   "id": "e1ab9672",
   "metadata": {},
   "source": [
    "#### Plots\n",
    "\n",
    "Run the following cell"
   ]
  },
  {
   "cell_type": "code",
   "execution_count": 1,
   "id": "387b0cdd",
   "metadata": {
    "hide-output": false
   },
   "outputs": [
    {
     "data": {
      "image/png": "[encoded data removed]",
      "image/svg+xml": "<?xml version=\"1.0\" encoding=\"utf-8\"?>\n<svg xmlns=\"http://www.w3.org/2000/svg\" xmlns:xlink=\"http://www.w3.org/1999/xlink\" width=\"600\" height=\"400\" viewBox=\"0 0 2400 1600\">\n<defs>\n  <clipPath id=\"clip390\">\n    <rect x=\"0\" y=\"0\" width=\"2400\" height=\"1600\"/>\n  </clipPath>\n</defs>\n<path clip-path=\"url(#clip390)\" d=\"\nM0 1600 L2400 1600 L2400 0 L0 0  Z\n  \" fill=\"#ffffff\" fill-rule=\"evenodd\" fill-opacity=\"1\"/>\n<defs>\n  <clipPath id=\"clip391\">\n    <rect x=\"480\" y=\"0\" width=\"1681\" height=\"1600\"/>\n  </clipPath>\n</defs>\n<path clip-path=\"url(#clip390)\" d=\"\nM193.936 1486.45 L2352.76 1486.45 L2352.76 47.2441 L193.936 47.2441  Z\n  \" fill=\"#ffffff\" fill-rule=\"evenodd\" fill-opacity=\"1\"/>\n<defs>\n  <clipPath id=\"clip392\">\n    <rect x=\"193\" y=\"47\" width=\"2160\" height=\"1440\"/>\n  </clipPath>\n</defs>\n<polyline clip-path=\"url(#clip392)\" style=\"stroke:#000000; stroke-linecap:butt; stroke-linejoin:round; stroke-width:2; stroke-opacity:0.1; fill:none\" points=\"\n  463,1486.45 463,47.2441 \n  \"/>\n<polyline clip-path=\"url(#clip392)\" style=\"stroke:#000000; stroke-linecap:butt; stroke-linejoin:round; stroke-width:2; stroke-opacity:0.1; fill:none\" points=\"\n  868.173,1486.45 868.173,47.2441 \n  \"/>\n<polyline clip-path=\"url(#clip392)\" style=\"stroke:#000000; stroke-linecap:butt; stroke-linejoin:round; stroke-width:2; stroke-opacity:0.1; fill:none\" points=\"\n  1273.35,1486.45 1273.35,47.2441 \n  \"/>\n<polyline clip-path=\"url(#clip392)\" style=\"stroke:#000000; stroke-linecap:butt; stroke-linejoin:round; stroke-width:2; stroke-opacity:0.1; fill:none\" points=\"\n  1678.52,1486.45 1678.52,47.2441 \n  \"/>\n<polyline clip-path=\"url(#clip392)\" style=\"stroke:#000000; stroke-linecap:butt; stroke-linejoin:round; stroke-width:2; stroke-opacity:0.1; fill:none\" points=\"\n  2083.69,1486.45 2083.69,47.2441 \n  \"/>\n<polyline clip-path=\"url(#clip390)\" style=\"stroke:#000000; stroke-linecap:butt; stroke-linejoin:round; stroke-width:4; stroke-opacity:1; fill:none\" points=\"\n  193.936,1486.45 2352.76,1486.45 \n  \"/>\n<polyline clip-path=\"url(#clip390)\" style=\"stroke:#000000; stroke-linecap:butt; stroke-linejoin:round; stroke-width:4; stroke-opacity:1; fill:none\" points=\"\n  463,1486.45 463,1467.55 \n  \"/>\n<polyline clip-path=\"url(#clip390)\" style=\"stroke:#000000; stroke-linecap:butt; stroke-linejoin:round; stroke-width:4; stroke-opacity:1; fill:none\" points=\"\n  868.173,1486.45 868.173,1467.55 \n  \"/>\n<polyline clip-path=\"url(#clip390)\" style=\"stroke:#000000; stroke-linecap:butt; stroke-linejoin:round; stroke-width:4; stroke-opacity:1; fill:none\" points=\"\n  1273.35,1486.45 1273.35,1467.55 \n  \"/>\n<polyline clip-path=\"url(#clip390)\" style=\"stroke:#000000; stroke-linecap:butt; stroke-linejoin:round; stroke-width:4; stroke-opacity:1; fill:none\" points=\"\n  1678.52,1486.45 1678.52,1467.55 \n  \"/>\n<polyline clip-path=\"url(#clip390)\" style=\"stroke:#000000; stroke-linecap:butt; stroke-linejoin:round; stroke-width:4; stroke-opacity:1; fill:none\" points=\"\n  2083.69,1486.45 2083.69,1467.55 \n  \"/>\n<path clip-path=\"url(#clip390)\" d=\"M409.528 1530.29 L439.203 1530.29 L439.203 1534.23 L409.528 1534.23 L409.528 1530.29 Z\" fill=\"#000000\" fill-rule=\"evenodd\" fill-opacity=\"1\" /><path clip-path=\"url(#clip390)\" d=\"M449.342 1512.56 L467.699 1512.56 L467.699 1516.5 L453.625 1516.5 L453.625 1524.97 Q454.643 1524.62 455.662 1524.46 Q456.68 1524.27 457.699 1524.27 Q463.486 1524.27 466.865 1527.44 Q470.245 1530.62 470.245 1536.03 Q470.245 1541.61 466.773 1544.71 Q463.301 1547.79 456.981 1547.79 Q454.805 1547.79 452.537 1547.42 Q450.291 1547.05 447.884 1546.31 L447.884 1541.61 Q449.967 1542.74 452.189 1543.3 Q454.412 1543.86 456.889 1543.86 Q460.893 1543.86 463.231 1541.75 Q465.569 1539.64 465.569 1536.03 Q465.569 1532.42 463.231 1530.31 Q460.893 1528.21 456.889 1528.21 Q455.014 1528.21 453.139 1528.62 Q451.287 1529.04 449.342 1529.92 L449.342 1512.56 Z\" fill=\"#000000\" fill-rule=\"evenodd\" fill-opacity=\"1\" /><path clip-path=\"url(#clip390)\" d=\"M479.458 1541.24 L484.342 1541.24 L484.342 1547.12 L479.458 1547.12 L479.458 1541.24 Z\" fill=\"#000000\" fill-rule=\"evenodd\" fill-opacity=\"1\" /><path clip-path=\"url(#clip390)\" d=\"M504.527 1515.64 Q500.916 1515.64 499.087 1519.2 Q497.282 1522.75 497.282 1529.87 Q497.282 1536.98 499.087 1540.55 Q500.916 1544.09 504.527 1544.09 Q508.161 1544.09 509.967 1540.55 Q511.796 1536.98 511.796 1529.87 Q511.796 1522.75 509.967 1519.2 Q508.161 1515.64 504.527 1515.64 M504.527 1511.93 Q510.337 1511.93 513.393 1516.54 Q516.472 1521.12 516.472 1529.87 Q516.472 1538.6 513.393 1543.21 Q510.337 1547.79 504.527 1547.79 Q498.717 1547.79 495.638 1543.21 Q492.583 1538.6 492.583 1529.87 Q492.583 1521.12 495.638 1516.54 Q498.717 1511.93 504.527 1511.93 Z\" fill=\"#000000\" fill-rule=\"evenodd\" fill-opacity=\"1\" /><path clip-path=\"url(#clip390)\" d=\"M815.199 1530.29 L844.874 1530.29 L844.874 1534.23 L815.199 1534.23 L815.199 1530.29 Z\" fill=\"#000000\" fill-rule=\"evenodd\" fill-opacity=\"1\" /><path clip-path=\"url(#clip390)\" d=\"M858.995 1543.18 L875.314 1543.18 L875.314 1547.12 L853.37 1547.12 L853.37 1543.18 Q856.032 1540.43 860.615 1535.8 Q865.221 1531.15 866.402 1529.81 Q868.647 1527.28 869.527 1525.55 Q870.43 1523.79 870.43 1522.1 Q870.43 1519.34 868.485 1517.61 Q866.564 1515.87 863.462 1515.87 Q861.263 1515.87 858.809 1516.63 Q856.379 1517.4 853.601 1518.95 L853.601 1514.23 Q856.425 1513.09 858.879 1512.51 Q861.333 1511.93 863.37 1511.93 Q868.74 1511.93 871.934 1514.62 Q875.129 1517.31 875.129 1521.8 Q875.129 1523.93 874.319 1525.85 Q873.532 1527.74 871.425 1530.34 Q870.846 1531.01 867.745 1534.23 Q864.643 1537.42 858.995 1543.18 Z\" fill=\"#000000\" fill-rule=\"evenodd\" fill-opacity=\"1\" /><path clip-path=\"url(#clip390)\" d=\"M885.129 1541.24 L890.013 1541.24 L890.013 1547.12 L885.129 1547.12 L885.129 1541.24 Z\" fill=\"#000000\" fill-rule=\"evenodd\" fill-opacity=\"1\" /><path clip-path=\"url(#clip390)\" d=\"M900.244 1512.56 L918.601 1512.56 L918.601 1516.5 L904.527 1516.5 L904.527 1524.97 Q905.545 1524.62 906.564 1524.46 Q907.582 1524.27 908.601 1524.27 Q914.388 1524.27 917.767 1527.44 Q921.147 1530.62 921.147 1536.03 Q921.147 1541.61 917.675 1544.71 Q914.203 1547.79 907.883 1547.79 Q905.707 1547.79 903.439 1547.42 Q901.193 1547.05 898.786 1546.31 L898.786 1541.61 Q900.869 1542.74 903.092 1543.3 Q905.314 1543.86 907.791 1543.86 Q911.795 1543.86 914.133 1541.75 Q916.471 1539.64 916.471 1536.03 Q916.471 1532.42 914.133 1530.31 Q911.795 1528.21 907.791 1528.21 Q905.916 1528.21 904.041 1528.62 Q902.189 1529.04 900.244 1529.92 L900.244 1512.56 Z\" fill=\"#000000\" fill-rule=\"evenodd\" fill-opacity=\"1\" /><path clip-path=\"url(#clip390)\" d=\"M1250.73 1515.64 Q1247.12 1515.64 1245.29 1519.2 Q1243.49 1522.75 1243.49 1529.87 Q1243.49 1536.98 1245.29 1540.55 Q1247.12 1544.09 1250.73 1544.09 Q1254.36 1544.09 1256.17 1540.55 Q1258 1536.98 1258 1529.87 Q1258 1522.75 1256.17 1519.2 Q1254.36 1515.64 1250.73 1515.64 M1250.73 1511.93 Q1256.54 1511.93 1259.6 1516.54 Q1262.67 1521.12 1262.67 1529.87 Q1262.67 1538.6 1259.6 1543.21 Q1256.54 1547.79 1250.73 1547.79 Q1244.92 1547.79 1241.84 1543.21 Q1238.79 1538.6 1238.79 1529.87 Q1238.79 1521.12 1241.84 1516.54 Q1244.92 1511.93 1250.73 1511.93 Z\" fill=\"#000000\" fill-rule=\"evenodd\" fill-opacity=\"1\" /><path clip-path=\"url(#clip390)\" d=\"M1270.89 1541.24 L1275.78 1541.24 L1275.78 1547.12 L1270.89 1547.12 L1270.89 1541.24 Z\" fill=\"#000000\" fill-rule=\"evenodd\" fill-opacity=\"1\" /><path clip-path=\"url(#clip390)\" d=\"M1295.96 1515.64 Q1292.35 1515.64 1290.52 1519.2 Q1288.72 1522.75 1288.72 1529.87 Q1288.72 1536.98 1290.52 1540.55 Q1292.35 1544.09 1295.96 1544.09 Q1299.6 1544.09 1301.4 1540.55 Q1303.23 1536.98 1303.23 1529.87 Q1303.23 1522.75 1301.4 1519.2 Q1299.6 1515.64 1295.96 1515.64 M1295.96 1511.93 Q1301.77 1511.93 1304.83 1516.54 Q1307.91 1521.12 1307.91 1529.87 Q1307.91 1538.6 1304.83 1543.21 Q1301.77 1547.79 1295.96 1547.79 Q1290.15 1547.79 1287.07 1543.21 Q1284.02 1538.6 1284.02 1529.87 Q1284.02 1521.12 1287.07 1516.54 Q1290.15 1511.93 1295.96 1511.93 Z\" fill=\"#000000\" fill-rule=\"evenodd\" fill-opacity=\"1\" /><path clip-path=\"url(#clip390)\" d=\"M1650.26 1543.18 L1666.57 1543.18 L1666.57 1547.12 L1644.63 1547.12 L1644.63 1543.18 Q1647.29 1540.43 1651.88 1535.8 Q1656.48 1531.15 1657.66 1529.81 Q1659.91 1527.28 1660.79 1525.55 Q1661.69 1523.79 1661.69 1522.1 Q1661.69 1519.34 1659.75 1517.61 Q1657.82 1515.87 1654.72 1515.87 Q1652.52 1515.87 1650.07 1516.63 Q1647.64 1517.4 1644.86 1518.95 L1644.86 1514.23 Q1647.69 1513.09 1650.14 1512.51 Q1652.59 1511.93 1654.63 1511.93 Q1660 1511.93 1663.2 1514.62 Q1666.39 1517.31 1666.39 1521.8 Q1666.39 1523.93 1665.58 1525.85 Q1664.79 1527.74 1662.69 1530.34 Q1662.11 1531.01 1659.01 1534.23 Q1655.9 1537.42 1650.26 1543.18 Z\" fill=\"#000000\" fill-rule=\"evenodd\" fill-opacity=\"1\" /><path clip-path=\"url(#clip390)\" d=\"M1676.39 1541.24 L1681.27 1541.24 L1681.27 1547.12 L1676.39 1547.12 L1676.39 1541.24 Z\" fill=\"#000000\" fill-rule=\"evenodd\" fill-opacity=\"1\" /><path clip-path=\"url(#clip390)\" d=\"M1691.51 1512.56 L1709.86 1512.56 L1709.86 1516.5 L1695.79 1516.5 L1695.79 1524.97 Q1696.81 1524.62 1697.82 1524.46 Q1698.84 1524.27 1699.86 1524.27 Q1705.65 1524.27 1709.03 1527.44 Q1712.41 1530.62 1712.41 1536.03 Q1712.41 1541.61 1708.94 1544.71 Q1705.46 1547.79 1699.14 1547.79 Q1696.97 1547.79 1694.7 1547.42 Q1692.45 1547.05 1690.05 1546.31 L1690.05 1541.61 Q1692.13 1542.74 1694.35 1543.3 Q1696.57 1543.86 1699.05 1543.86 Q1703.06 1543.86 1705.39 1541.75 Q1707.73 1539.64 1707.73 1536.03 Q1707.73 1532.42 1705.39 1530.31 Q1703.06 1528.21 1699.05 1528.21 Q1697.18 1528.21 1695.3 1528.62 Q1693.45 1529.04 1691.51 1529.92 L1691.51 1512.56 Z\" fill=\"#000000\" fill-rule=\"evenodd\" fill-opacity=\"1\" /><path clip-path=\"url(#clip390)\" d=\"M2050.86 1512.56 L2069.21 1512.56 L2069.21 1516.5 L2055.14 1516.5 L2055.14 1524.97 Q2056.16 1524.62 2057.18 1524.46 Q2058.19 1524.27 2059.21 1524.27 Q2065 1524.27 2068.38 1527.44 Q2071.76 1530.62 2071.76 1536.03 Q2071.76 1541.61 2068.29 1544.71 Q2064.82 1547.79 2058.5 1547.79 Q2056.32 1547.79 2054.05 1547.42 Q2051.81 1547.05 2049.4 1546.31 L2049.4 1541.61 Q2051.48 1542.74 2053.7 1543.3 Q2055.93 1543.86 2058.4 1543.86 Q2062.41 1543.86 2064.75 1541.75 Q2067.08 1539.64 2067.08 1536.03 Q2067.08 1532.42 2064.75 1530.31 Q2062.41 1528.21 2058.4 1528.21 Q2056.53 1528.21 2054.65 1528.62 Q2052.8 1529.04 2050.86 1529.92 L2050.86 1512.56 Z\" fill=\"#000000\" fill-rule=\"evenodd\" fill-opacity=\"1\" /><path clip-path=\"url(#clip390)\" d=\"M2080.97 1541.24 L2085.86 1541.24 L2085.86 1547.12 L2080.97 1547.12 L2080.97 1541.24 Z\" fill=\"#000000\" fill-rule=\"evenodd\" fill-opacity=\"1\" /><path clip-path=\"url(#clip390)\" d=\"M2106.04 1515.64 Q2102.43 1515.64 2100.6 1519.2 Q2098.8 1522.75 2098.8 1529.87 Q2098.8 1536.98 2100.6 1540.55 Q2102.43 1544.09 2106.04 1544.09 Q2109.68 1544.09 2111.48 1540.55 Q2113.31 1536.98 2113.31 1529.87 Q2113.31 1522.75 2111.48 1519.2 Q2109.68 1515.64 2106.04 1515.64 M2106.04 1511.93 Q2111.85 1511.93 2114.91 1516.54 Q2117.99 1521.12 2117.99 1529.87 Q2117.99 1538.6 2114.91 1543.21 Q2111.85 1547.79 2106.04 1547.79 Q2100.23 1547.79 2097.15 1543.21 Q2094.1 1538.6 2094.1 1529.87 Q2094.1 1521.12 2097.15 1516.54 Q2100.23 1511.93 2106.04 1511.93 Z\" fill=\"#000000\" fill-rule=\"evenodd\" fill-opacity=\"1\" /><polyline clip-path=\"url(#clip392)\" style=\"stroke:#000000; stroke-linecap:butt; stroke-linejoin:round; stroke-width:2; stroke-opacity:0.1; fill:none\" points=\"\n  193.936,1445.79 2352.76,1445.79 \n  \"/>\n<polyline clip-path=\"url(#clip392)\" style=\"stroke:#000000; stroke-linecap:butt; stroke-linejoin:round; stroke-width:2; stroke-opacity:0.1; fill:none\" points=\"\n  193.936,1106.27 2352.76,1106.27 \n  \"/>\n<polyline clip-path=\"url(#clip392)\" style=\"stroke:#000000; stroke-linecap:butt; stroke-linejoin:round; stroke-width:2; stroke-opacity:0.1; fill:none\" points=\"\n  193.936,766.755 2352.76,766.755 \n  \"/>\n<polyline clip-path=\"url(#clip392)\" style=\"stroke:#000000; stroke-linecap:butt; stroke-linejoin:round; stroke-width:2; stroke-opacity:0.1; fill:none\" points=\"\n  193.936,427.236 2352.76,427.236 \n  \"/>\n<polyline clip-path=\"url(#clip392)\" style=\"stroke:#000000; stroke-linecap:butt; stroke-linejoin:round; stroke-width:2; stroke-opacity:0.1; fill:none\" points=\"\n  193.936,87.7173 2352.76,87.7173 \n  \"/>\n<polyline clip-path=\"url(#clip390)\" style=\"stroke:#000000; stroke-linecap:butt; stroke-linejoin:round; stroke-width:4; stroke-opacity:1; fill:none\" points=\"\n  193.936,1486.45 193.936,47.2441 \n  \"/>\n<polyline clip-path=\"url(#clip390)\" style=\"stroke:#000000; stroke-linecap:butt; stroke-linejoin:round; stroke-width:4; stroke-opacity:1; fill:none\" points=\"\n  193.936,1445.79 212.834,1445.79 \n  \"/>\n<polyline clip-path=\"url(#clip390)\" style=\"stroke:#000000; stroke-linecap:butt; stroke-linejoin:round; stroke-width:4; stroke-opacity:1; fill:none\" points=\"\n  193.936,1106.27 212.834,1106.27 \n  \"/>\n<polyline clip-path=\"url(#clip390)\" style=\"stroke:#000000; stroke-linecap:butt; stroke-linejoin:round; stroke-width:4; stroke-opacity:1; fill:none\" points=\"\n  193.936,766.755 212.834,766.755 \n  \"/>\n<polyline clip-path=\"url(#clip390)\" style=\"stroke:#000000; stroke-linecap:butt; stroke-linejoin:round; stroke-width:4; stroke-opacity:1; fill:none\" points=\"\n  193.936,427.236 212.834,427.236 \n  \"/>\n<polyline clip-path=\"url(#clip390)\" style=\"stroke:#000000; stroke-linecap:butt; stroke-linejoin:round; stroke-width:4; stroke-opacity:1; fill:none\" points=\"\n  193.936,87.7173 212.834,87.7173 \n  \"/>\n<path clip-path=\"url(#clip390)\" d=\"M50.9921 1446.24 L80.6679 1446.24 L80.6679 1450.18 L50.9921 1450.18 L50.9921 1446.24 Z\" fill=\"#000000\" fill-rule=\"evenodd\" fill-opacity=\"1\" /><path clip-path=\"url(#clip390)\" d=\"M91.5706 1459.14 L99.2095 1459.14 L99.2095 1432.77 L90.8993 1434.44 L90.8993 1430.18 L99.1632 1428.51 L103.839 1428.51 L103.839 1459.14 L111.478 1459.14 L111.478 1463.07 L91.5706 1463.07 L91.5706 1459.14 Z\" fill=\"#000000\" fill-rule=\"evenodd\" fill-opacity=\"1\" /><path clip-path=\"url(#clip390)\" d=\"M120.922 1457.19 L125.807 1457.19 L125.807 1463.07 L120.922 1463.07 L120.922 1457.19 Z\" fill=\"#000000\" fill-rule=\"evenodd\" fill-opacity=\"1\" /><path clip-path=\"url(#clip390)\" d=\"M145.992 1431.59 Q142.381 1431.59 140.552 1435.16 Q138.746 1438.7 138.746 1445.83 Q138.746 1452.93 140.552 1456.5 Q142.381 1460.04 145.992 1460.04 Q149.626 1460.04 151.431 1456.5 Q153.26 1452.93 153.26 1445.83 Q153.26 1438.7 151.431 1435.16 Q149.626 1431.59 145.992 1431.59 M145.992 1427.89 Q151.802 1427.89 154.857 1432.49 Q157.936 1437.08 157.936 1445.83 Q157.936 1454.55 154.857 1459.16 Q151.802 1463.74 145.992 1463.74 Q140.181 1463.74 137.103 1459.16 Q134.047 1454.55 134.047 1445.83 Q134.047 1437.08 137.103 1432.49 Q140.181 1427.89 145.992 1427.89 Z\" fill=\"#000000\" fill-rule=\"evenodd\" fill-opacity=\"1\" /><path clip-path=\"url(#clip390)\" d=\"M51.9875 1106.73 L81.6633 1106.73 L81.6633 1110.66 L51.9875 1110.66 L51.9875 1106.73 Z\" fill=\"#000000\" fill-rule=\"evenodd\" fill-opacity=\"1\" /><path clip-path=\"url(#clip390)\" d=\"M101.756 1092.07 Q98.1447 1092.07 96.316 1095.64 Q94.5104 1099.18 94.5104 1106.31 Q94.5104 1113.42 96.316 1116.98 Q98.1447 1120.52 101.756 1120.52 Q105.39 1120.52 107.196 1116.98 Q109.024 1113.42 109.024 1106.31 Q109.024 1099.18 107.196 1095.64 Q105.39 1092.07 101.756 1092.07 M101.756 1088.37 Q107.566 1088.37 110.621 1092.98 Q113.7 1097.56 113.7 1106.31 Q113.7 1115.04 110.621 1119.64 Q107.566 1124.23 101.756 1124.23 Q95.9456 1124.23 92.8669 1119.64 Q89.8114 1115.04 89.8114 1106.31 Q89.8114 1097.56 92.8669 1092.98 Q95.9456 1088.37 101.756 1088.37 Z\" fill=\"#000000\" fill-rule=\"evenodd\" fill-opacity=\"1\" /><path clip-path=\"url(#clip390)\" d=\"M121.918 1117.67 L126.802 1117.67 L126.802 1123.55 L121.918 1123.55 L121.918 1117.67 Z\" fill=\"#000000\" fill-rule=\"evenodd\" fill-opacity=\"1\" /><path clip-path=\"url(#clip390)\" d=\"M137.033 1088.99 L155.39 1088.99 L155.39 1092.93 L141.316 1092.93 L141.316 1101.4 Q142.334 1101.05 143.353 1100.89 Q144.371 1100.71 145.39 1100.71 Q151.177 1100.71 154.556 1103.88 Q157.936 1107.05 157.936 1112.47 Q157.936 1118.04 154.464 1121.15 Q150.992 1124.23 144.672 1124.23 Q142.496 1124.23 140.228 1123.86 Q137.982 1123.48 135.575 1122.74 L135.575 1118.04 Q137.658 1119.18 139.881 1119.73 Q142.103 1120.29 144.58 1120.29 Q148.584 1120.29 150.922 1118.18 Q153.26 1116.08 153.26 1112.47 Q153.26 1108.86 150.922 1106.75 Q148.584 1104.64 144.58 1104.64 Q142.705 1104.64 140.83 1105.06 Q138.978 1105.48 137.033 1106.36 L137.033 1088.99 Z\" fill=\"#000000\" fill-rule=\"evenodd\" fill-opacity=\"1\" /><path clip-path=\"url(#clip390)\" d=\"M100.76 752.554 Q97.1493 752.554 95.3206 756.119 Q93.515 759.66 93.515 766.79 Q93.515 773.896 95.3206 777.461 Q97.1493 781.003 100.76 781.003 Q104.395 781.003 106.2 777.461 Q108.029 773.896 108.029 766.79 Q108.029 759.66 106.2 756.119 Q104.395 752.554 100.76 752.554 M100.76 748.85 Q106.571 748.85 109.626 753.457 Q112.705 758.04 112.705 766.79 Q112.705 775.517 109.626 780.123 Q106.571 784.707 100.76 784.707 Q94.9502 784.707 91.8715 780.123 Q88.816 775.517 88.816 766.79 Q88.816 758.04 91.8715 753.457 Q94.9502 748.85 100.76 748.85 Z\" fill=\"#000000\" fill-rule=\"evenodd\" fill-opacity=\"1\" /><path clip-path=\"url(#clip390)\" d=\"M120.922 778.156 L125.807 778.156 L125.807 784.035 L120.922 784.035 L120.922 778.156 Z\" fill=\"#000000\" fill-rule=\"evenodd\" fill-opacity=\"1\" /><path clip-path=\"url(#clip390)\" d=\"M145.992 752.554 Q142.381 752.554 140.552 756.119 Q138.746 759.66 138.746 766.79 Q138.746 773.896 140.552 777.461 Q142.381 781.003 145.992 781.003 Q149.626 781.003 151.431 777.461 Q153.26 773.896 153.26 766.79 Q153.26 759.66 151.431 756.119 Q149.626 752.554 145.992 752.554 M145.992 748.85 Q151.802 748.85 154.857 753.457 Q157.936 758.04 157.936 766.79 Q157.936 775.517 154.857 780.123 Q151.802 784.707 145.992 784.707 Q140.181 784.707 137.103 780.123 Q134.047 775.517 134.047 766.79 Q134.047 758.04 137.103 753.457 Q140.181 748.85 145.992 748.85 Z\" fill=\"#000000\" fill-rule=\"evenodd\" fill-opacity=\"1\" /><path clip-path=\"url(#clip390)\" d=\"M101.756 413.035 Q98.1447 413.035 96.316 416.6 Q94.5104 420.141 94.5104 427.271 Q94.5104 434.377 96.316 437.942 Q98.1447 441.484 101.756 441.484 Q105.39 441.484 107.196 437.942 Q109.024 434.377 109.024 427.271 Q109.024 420.141 107.196 416.6 Q105.39 413.035 101.756 413.035 M101.756 409.331 Q107.566 409.331 110.621 413.938 Q113.7 418.521 113.7 427.271 Q113.7 435.998 110.621 440.604 Q107.566 445.188 101.756 445.188 Q95.9456 445.188 92.8669 440.604 Q89.8114 435.998 89.8114 427.271 Q89.8114 418.521 92.8669 413.938 Q95.9456 409.331 101.756 409.331 Z\" fill=\"#000000\" fill-rule=\"evenodd\" fill-opacity=\"1\" /><path clip-path=\"url(#clip390)\" d=\"M121.918 438.637 L126.802 438.637 L126.802 444.516 L121.918 444.516 L121.918 438.637 Z\" fill=\"#000000\" fill-rule=\"evenodd\" fill-opacity=\"1\" /><path clip-path=\"url(#clip390)\" d=\"M137.033 409.956 L155.39 409.956 L155.39 413.891 L141.316 413.891 L141.316 422.364 Q142.334 422.016 143.353 421.854 Q144.371 421.669 145.39 421.669 Q151.177 421.669 154.556 424.84 Q157.936 428.012 157.936 433.428 Q157.936 439.007 154.464 442.109 Q150.992 445.188 144.672 445.188 Q142.496 445.188 140.228 444.817 Q137.982 444.447 135.575 443.706 L135.575 439.007 Q137.658 440.141 139.881 440.697 Q142.103 441.252 144.58 441.252 Q148.584 441.252 150.922 439.146 Q153.26 437.039 153.26 433.428 Q153.26 429.817 150.922 427.711 Q148.584 425.604 144.58 425.604 Q142.705 425.604 140.83 426.021 Q138.978 426.438 137.033 427.317 L137.033 409.956 Z\" fill=\"#000000\" fill-rule=\"evenodd\" fill-opacity=\"1\" /><path clip-path=\"url(#clip390)\" d=\"M91.5706 101.062 L99.2095 101.062 L99.2095 74.6965 L90.8993 76.3632 L90.8993 72.1039 L99.1632 70.4373 L103.839 70.4373 L103.839 101.062 L111.478 101.062 L111.478 104.997 L91.5706 104.997 L91.5706 101.062 Z\" fill=\"#000000\" fill-rule=\"evenodd\" fill-opacity=\"1\" /><path clip-path=\"url(#clip390)\" d=\"M120.922 99.1177 L125.807 99.1177 L125.807 104.997 L120.922 104.997 L120.922 99.1177 Z\" fill=\"#000000\" fill-rule=\"evenodd\" fill-opacity=\"1\" /><path clip-path=\"url(#clip390)\" d=\"M145.992 73.516 Q142.381 73.516 140.552 77.0808 Q138.746 80.6224 138.746 87.752 Q138.746 94.8585 140.552 98.4233 Q142.381 101.965 145.992 101.965 Q149.626 101.965 151.431 98.4233 Q153.26 94.8585 153.26 87.752 Q153.26 80.6224 151.431 77.0808 Q149.626 73.516 145.992 73.516 M145.992 69.8123 Q151.802 69.8123 154.857 74.4188 Q157.936 79.0021 157.936 87.752 Q157.936 96.4788 154.857 101.085 Q151.802 105.669 145.992 105.669 Q140.181 105.669 137.103 101.085 Q134.047 96.4788 134.047 87.752 Q134.047 79.0021 137.103 74.4188 Q140.181 69.8123 145.992 69.8123 Z\" fill=\"#000000\" fill-rule=\"evenodd\" fill-opacity=\"1\" /><polyline clip-path=\"url(#clip392)\" style=\"stroke:#009af9; stroke-linecap:butt; stroke-linejoin:round; stroke-width:4; stroke-opacity:1; fill:none\" points=\"\n  255.035,766.755 260.007,745.925 264.979,725.115 269.952,704.344 274.924,683.632 320.9,498.326 366.877,334.477 389.865,264.789 412.853,205.183 435.841,156.857 \n  458.829,120.781 472.644,105.306 486.459,94.6349 500.274,88.8442 514.089,87.9763 527.904,92.0373 541.719,100.998 555.534,114.793 569.348,133.322 592.709,175.033 \n  616.07,229.017 627.75,260.271 639.431,294.154 651.111,330.491 662.791,369.092 713.544,557.993 764.296,767.199 811.085,960.506 857.875,1137.78 870.416,1180.63 \n  882.956,1221.01 895.497,1258.66 908.038,1293.38 933.119,1353.16 958.201,1398.93 972.731,1418.58 987.26,1433 1001.79,1442.07 1016.32,1445.72 1030.85,1443.91 \n  1045.38,1436.66 1059.91,1424.03 1074.44,1406.13 1100.26,1361.74 1126.09,1302.28 1151.91,1229.25 1177.74,1144.5 1223.03,974.204 1268.32,787.809 1317.7,583.23 \n  1367.08,395.558 1391.92,313.112 1416.75,241.299 1441.59,181.803 1466.43,136.017 1480.16,116.996 1493.89,102.636 1507.62,93.0401 1521.35,88.2761 1535.08,88.3788 \n  1548.81,93.3473 1562.54,103.146 1576.27,117.705 1602.4,158.154 1628.52,214.386 1641.59,247.98 1654.65,284.943 1667.72,325.035 1680.78,367.996 1735.11,571.023 \n  1789.45,795.844 1835.18,983.616 1880.92,1154.23 1894.88,1200.77 1908.84,1244.09 1922.8,1283.86 1936.76,1319.81 1950.72,1351.65 1964.68,1379.16 1978.64,1402.13 \n  1992.6,1420.38 2005.72,1433.12 2018.85,1441.5 2031.97,1445.46 2045.09,1444.96 2058.21,1440.03 2071.34,1430.68 2084.46,1416.98 2097.58,1399.02 2118.61,1361.67 \n  2139.63,1314.33 2160.65,1257.78 2181.68,1192.99 2223.73,1043.11 2265.77,874.742 2272.24,847.897 2278.72,820.921 2285.19,793.86 2291.66,766.755 \n  \"/>\n<path clip-path=\"url(#clip390)\" d=\"\nM1914.61 198.898 L2280.8 198.898 L2280.8 95.2176 L1914.61 95.2176  Z\n  \" fill=\"#ffffff\" fill-rule=\"evenodd\" fill-opacity=\"1\"/>\n<polyline clip-path=\"url(#clip390)\" style=\"stroke:#000000; stroke-linecap:butt; stroke-linejoin:round; stroke-width:4; stroke-opacity:1; fill:none\" points=\"\n  1914.61,198.898 2280.8,198.898 2280.8,95.2176 1914.61,95.2176 1914.61,198.898 \n  \"/>\n<polyline clip-path=\"url(#clip390)\" style=\"stroke:#009af9; stroke-linecap:butt; stroke-linejoin:round; stroke-width:4; stroke-opacity:1; fill:none\" points=\"\n  1938.59,147.058 2082.52,147.058 \n  \"/>\n<path clip-path=\"url(#clip390)\" d=\"M2124.93 139.176 L2124.93 143.203 Q2123.12 142.277 2121.18 141.815 Q2119.23 141.352 2117.15 141.352 Q2113.98 141.352 2112.38 142.324 Q2110.81 143.296 2110.81 145.24 Q2110.81 146.722 2111.94 147.578 Q2113.08 148.412 2116.5 149.176 L2117.96 149.5 Q2122.5 150.472 2124.4 152.254 Q2126.32 154.014 2126.32 157.185 Q2126.32 160.796 2123.45 162.902 Q2120.6 165.009 2115.6 165.009 Q2113.52 165.009 2111.25 164.592 Q2109 164.199 2106.5 163.388 L2106.5 158.99 Q2108.86 160.217 2111.16 160.842 Q2113.45 161.444 2115.69 161.444 Q2118.7 161.444 2120.32 160.426 Q2121.94 159.384 2121.94 157.509 Q2121.94 155.773 2120.76 154.847 Q2119.6 153.921 2115.65 153.064 L2114.16 152.717 Q2110.21 151.884 2108.45 150.171 Q2106.69 148.435 2106.69 145.426 Q2106.69 141.768 2109.28 139.778 Q2111.87 137.787 2116.64 137.787 Q2119 137.787 2121.09 138.134 Q2123.17 138.481 2124.93 139.176 Z\" fill=\"#000000\" fill-rule=\"evenodd\" fill-opacity=\"1\" /><path clip-path=\"url(#clip390)\" d=\"M2133.1 138.412 L2137.36 138.412 L2137.36 164.338 L2133.1 164.338 L2133.1 138.412 M2133.1 128.319 L2137.36 128.319 L2137.36 133.713 L2133.1 133.713 L2133.1 128.319 Z\" fill=\"#000000\" fill-rule=\"evenodd\" fill-opacity=\"1\" /><path clip-path=\"url(#clip390)\" d=\"M2167.82 148.689 L2167.82 164.338 L2163.56 164.338 L2163.56 148.828 Q2163.56 145.148 2162.13 143.319 Q2160.69 141.49 2157.82 141.49 Q2154.37 141.49 2152.38 143.69 Q2150.39 145.889 2150.39 149.685 L2150.39 164.338 L2146.11 164.338 L2146.11 138.412 L2150.39 138.412 L2150.39 142.44 Q2151.92 140.102 2153.98 138.944 Q2156.06 137.787 2158.77 137.787 Q2163.24 137.787 2165.53 140.565 Q2167.82 143.319 2167.82 148.689 Z\" fill=\"#000000\" fill-rule=\"evenodd\" fill-opacity=\"1\" /><path clip-path=\"url(#clip390)\" d=\"M2186.55 128.366 Q2183.45 133.69 2181.94 138.898 Q2180.44 144.106 2180.44 149.453 Q2180.44 154.801 2181.94 160.055 Q2183.47 165.287 2186.55 170.588 L2182.84 170.588 Q2179.37 165.148 2177.64 159.893 Q2175.92 154.639 2175.92 149.453 Q2175.92 144.291 2177.64 139.06 Q2179.35 133.828 2182.84 128.366 L2186.55 128.366 Z\" fill=\"#000000\" fill-rule=\"evenodd\" fill-opacity=\"1\" /><path clip-path=\"url(#clip390)\" d=\"M2216.36 138.412 L2206.99 151.027 L2216.85 164.338 L2211.83 164.338 L2204.28 154.152 L2196.73 164.338 L2191.71 164.338 L2201.78 150.773 L2192.57 138.412 L2197.59 138.412 L2204.47 147.648 L2211.34 138.412 L2216.36 138.412 Z\" fill=\"#000000\" fill-rule=\"evenodd\" fill-opacity=\"1\" /><path clip-path=\"url(#clip390)\" d=\"M2222.2 128.366 L2225.9 128.366 Q2229.37 133.828 2231.09 139.06 Q2232.82 144.291 2232.82 149.453 Q2232.82 154.639 2231.09 159.893 Q2229.37 165.148 2225.9 170.588 L2222.2 170.588 Q2225.28 165.287 2226.78 160.055 Q2228.31 154.801 2228.31 149.453 Q2228.31 144.106 2226.78 138.898 Q2225.28 133.69 2222.2 128.366 Z\" fill=\"#000000\" fill-rule=\"evenodd\" fill-opacity=\"1\" /></svg>\n",
      "text/html": [
       "<?xml version=\"1.0\" encoding=\"utf-8\"?>\n",
       "<svg xmlns=\"http://www.w3.org/2000/svg\" xmlns:xlink=\"http://www.w3.org/1999/xlink\" width=\"600\" height=\"400\" viewBox=\"0 0 2400 1600\">\n",
       "<defs>\n",
       "  <clipPath id=\"clip440\">\n",
       "    <rect x=\"0\" y=\"0\" width=\"2400\" height=\"1600\"/>\n",
       "  </clipPath>\n",
       "</defs>\n",
       "<path clip-path=\"url(#clip440)\" d=\"\n",
       "M0 1600 L2400 1600 L2400 0 L0 0  Z\n",
       "  \" fill=\"#ffffff\" fill-rule=\"evenodd\" fill-opacity=\"1\"/>\n",
       "<defs>\n",
       "  <clipPath id=\"clip441\">\n",
       "    <rect x=\"480\" y=\"0\" width=\"1681\" height=\"1600\"/>\n",
       "  </clipPath>\n",
       "</defs>\n",
       "<path clip-path=\"url(#clip440)\" d=\"\n",
       "M193.936 1486.45 L2352.76 1486.45 L2352.76 47.2441 L193.936 47.2441  Z\n",
       "  \" fill=\"#ffffff\" fill-rule=\"evenodd\" fill-opacity=\"1\"/>\n",
       "<defs>\n",
       "  <clipPath id=\"clip442\">\n",
       "    <rect x=\"193\" y=\"47\" width=\"2160\" height=\"1440\"/>\n",
       "  </clipPath>\n",
       "</defs>\n",
       "<polyline clip-path=\"url(#clip442)\" style=\"stroke:#000000; stroke-linecap:butt; stroke-linejoin:round; stroke-width:2; stroke-opacity:0.1; fill:none\" points=\"\n",
       "  463,1486.45 463,47.2441 \n",
       "  \"/>\n",
       "<polyline clip-path=\"url(#clip442)\" style=\"stroke:#000000; stroke-linecap:butt; stroke-linejoin:round; stroke-width:2; stroke-opacity:0.1; fill:none\" points=\"\n",
       "  868.173,1486.45 868.173,47.2441 \n",
       "  \"/>\n",
       "<polyline clip-path=\"url(#clip442)\" style=\"stroke:#000000; stroke-linecap:butt; stroke-linejoin:round; stroke-width:2; stroke-opacity:0.1; fill:none\" points=\"\n",
       "  1273.35,1486.45 1273.35,47.2441 \n",
       "  \"/>\n",
       "<polyline clip-path=\"url(#clip442)\" style=\"stroke:#000000; stroke-linecap:butt; stroke-linejoin:round; stroke-width:2; stroke-opacity:0.1; fill:none\" points=\"\n",
       "  1678.52,1486.45 1678.52,47.2441 \n",
       "  \"/>\n",
       "<polyline clip-path=\"url(#clip442)\" style=\"stroke:#000000; stroke-linecap:butt; stroke-linejoin:round; stroke-width:2; stroke-opacity:0.1; fill:none\" points=\"\n",
       "  2083.69,1486.45 2083.69,47.2441 \n",
       "  \"/>\n",
       "<polyline clip-path=\"url(#clip440)\" style=\"stroke:#000000; stroke-linecap:butt; stroke-linejoin:round; stroke-width:4; stroke-opacity:1; fill:none\" points=\"\n",
       "  193.936,1486.45 2352.76,1486.45 \n",
       "  \"/>\n",
       "<polyline clip-path=\"url(#clip440)\" style=\"stroke:#000000; stroke-linecap:butt; stroke-linejoin:round; stroke-width:4; stroke-opacity:1; fill:none\" points=\"\n",
       "  463,1486.45 463,1467.55 \n",
       "  \"/>\n",
       "<polyline clip-path=\"url(#clip440)\" style=\"stroke:#000000; stroke-linecap:butt; stroke-linejoin:round; stroke-width:4; stroke-opacity:1; fill:none\" points=\"\n",
       "  868.173,1486.45 868.173,1467.55 \n",
       "  \"/>\n",
       "<polyline clip-path=\"url(#clip440)\" style=\"stroke:#000000; stroke-linecap:butt; stroke-linejoin:round; stroke-width:4; stroke-opacity:1; fill:none\" points=\"\n",
       "  1273.35,1486.45 1273.35,1467.55 \n",
       "  \"/>\n",
       "<polyline clip-path=\"url(#clip440)\" style=\"stroke:#000000; stroke-linecap:butt; stroke-linejoin:round; stroke-width:4; stroke-opacity:1; fill:none\" points=\"\n",
       "  1678.52,1486.45 1678.52,1467.55 \n",
       "  \"/>\n",
       "<polyline clip-path=\"url(#clip440)\" style=\"stroke:#000000; stroke-linecap:butt; stroke-linejoin:round; stroke-width:4; stroke-opacity:1; fill:none\" points=\"\n",
       "  2083.69,1486.45 2083.69,1467.55 \n",
       "  \"/>\n",
       "<path clip-path=\"url(#clip440)\" d=\"M409.528 1530.29 L439.203 1530.29 L439.203 1534.23 L409.528 1534.23 L409.528 1530.29 Z\" fill=\"#000000\" fill-rule=\"evenodd\" fill-opacity=\"1\" /><path clip-path=\"url(#clip440)\" d=\"M449.342 1512.56 L467.699 1512.56 L467.699 1516.5 L453.625 1516.5 L453.625 1524.97 Q454.643 1524.62 455.662 1524.46 Q456.68 1524.27 457.699 1524.27 Q463.486 1524.27 466.865 1527.44 Q470.245 1530.62 470.245 1536.03 Q470.245 1541.61 466.773 1544.71 Q463.301 1547.79 456.981 1547.79 Q454.805 1547.79 452.537 1547.42 Q450.291 1547.05 447.884 1546.31 L447.884 1541.61 Q449.967 1542.74 452.189 1543.3 Q454.412 1543.86 456.889 1543.86 Q460.893 1543.86 463.231 1541.75 Q465.569 1539.64 465.569 1536.03 Q465.569 1532.42 463.231 1530.31 Q460.893 1528.21 456.889 1528.21 Q455.014 1528.21 453.139 1528.62 Q451.287 1529.04 449.342 1529.92 L449.342 1512.56 Z\" fill=\"#000000\" fill-rule=\"evenodd\" fill-opacity=\"1\" /><path clip-path=\"url(#clip440)\" d=\"M479.458 1541.24 L484.342 1541.24 L484.342 1547.12 L479.458 1547.12 L479.458 1541.24 Z\" fill=\"#000000\" fill-rule=\"evenodd\" fill-opacity=\"1\" /><path clip-path=\"url(#clip440)\" d=\"M504.527 1515.64 Q500.916 1515.64 499.087 1519.2 Q497.282 1522.75 497.282 1529.87 Q497.282 1536.98 499.087 1540.55 Q500.916 1544.09 504.527 1544.09 Q508.161 1544.09 509.967 1540.55 Q511.796 1536.98 511.796 1529.87 Q511.796 1522.75 509.967 1519.2 Q508.161 1515.64 504.527 1515.64 M504.527 1511.93 Q510.337 1511.93 513.393 1516.54 Q516.472 1521.12 516.472 1529.87 Q516.472 1538.6 513.393 1543.21 Q510.337 1547.79 504.527 1547.79 Q498.717 1547.79 495.638 1543.21 Q492.583 1538.6 492.583 1529.87 Q492.583 1521.12 495.638 1516.54 Q498.717 1511.93 504.527 1511.93 Z\" fill=\"#000000\" fill-rule=\"evenodd\" fill-opacity=\"1\" /><path clip-path=\"url(#clip440)\" d=\"M815.199 1530.29 L844.874 1530.29 L844.874 1534.23 L815.199 1534.23 L815.199 1530.29 Z\" fill=\"#000000\" fill-rule=\"evenodd\" fill-opacity=\"1\" /><path clip-path=\"url(#clip440)\" d=\"M858.995 1543.18 L875.314 1543.18 L875.314 1547.12 L853.37 1547.12 L853.37 1543.18 Q856.032 1540.43 860.615 1535.8 Q865.221 1531.15 866.402 1529.81 Q868.647 1527.28 869.527 1525.55 Q870.43 1523.79 870.43 1522.1 Q870.43 1519.34 868.485 1517.61 Q866.564 1515.87 863.462 1515.87 Q861.263 1515.87 858.809 1516.63 Q856.379 1517.4 853.601 1518.95 L853.601 1514.23 Q856.425 1513.09 858.879 1512.51 Q861.333 1511.93 863.37 1511.93 Q868.74 1511.93 871.934 1514.62 Q875.129 1517.31 875.129 1521.8 Q875.129 1523.93 874.319 1525.85 Q873.532 1527.74 871.425 1530.34 Q870.846 1531.01 867.745 1534.23 Q864.643 1537.42 858.995 1543.18 Z\" fill=\"#000000\" fill-rule=\"evenodd\" fill-opacity=\"1\" /><path clip-path=\"url(#clip440)\" d=\"M885.129 1541.24 L890.013 1541.24 L890.013 1547.12 L885.129 1547.12 L885.129 1541.24 Z\" fill=\"#000000\" fill-rule=\"evenodd\" fill-opacity=\"1\" /><path clip-path=\"url(#clip440)\" d=\"M900.244 1512.56 L918.601 1512.56 L918.601 1516.5 L904.527 1516.5 L904.527 1524.97 Q905.545 1524.62 906.564 1524.46 Q907.582 1524.27 908.601 1524.27 Q914.388 1524.27 917.767 1527.44 Q921.147 1530.62 921.147 1536.03 Q921.147 1541.61 917.675 1544.71 Q914.203 1547.79 907.883 1547.79 Q905.707 1547.79 903.439 1547.42 Q901.193 1547.05 898.786 1546.31 L898.786 1541.61 Q900.869 1542.74 903.092 1543.3 Q905.314 1543.86 907.791 1543.86 Q911.795 1543.86 914.133 1541.75 Q916.471 1539.64 916.471 1536.03 Q916.471 1532.42 914.133 1530.31 Q911.795 1528.21 907.791 1528.21 Q905.916 1528.21 904.041 1528.62 Q902.189 1529.04 900.244 1529.92 L900.244 1512.56 Z\" fill=\"#000000\" fill-rule=\"evenodd\" fill-opacity=\"1\" /><path clip-path=\"url(#clip440)\" d=\"M1250.73 1515.64 Q1247.12 1515.64 1245.29 1519.2 Q1243.49 1522.75 1243.49 1529.87 Q1243.49 1536.98 1245.29 1540.55 Q1247.12 1544.09 1250.73 1544.09 Q1254.36 1544.09 1256.17 1540.55 Q1258 1536.98 1258 1529.87 Q1258 1522.75 1256.17 1519.2 Q1254.36 1515.64 1250.73 1515.64 M1250.73 1511.93 Q1256.54 1511.93 1259.6 1516.54 Q1262.67 1521.12 1262.67 1529.87 Q1262.67 1538.6 1259.6 1543.21 Q1256.54 1547.79 1250.73 1547.79 Q1244.92 1547.79 1241.84 1543.21 Q1238.79 1538.6 1238.79 1529.87 Q1238.79 1521.12 1241.84 1516.54 Q1244.92 1511.93 1250.73 1511.93 Z\" fill=\"#000000\" fill-rule=\"evenodd\" fill-opacity=\"1\" /><path clip-path=\"url(#clip440)\" d=\"M1270.89 1541.24 L1275.78 1541.24 L1275.78 1547.12 L1270.89 1547.12 L1270.89 1541.24 Z\" fill=\"#000000\" fill-rule=\"evenodd\" fill-opacity=\"1\" /><path clip-path=\"url(#clip440)\" d=\"M1295.96 1515.64 Q1292.35 1515.64 1290.52 1519.2 Q1288.72 1522.75 1288.72 1529.87 Q1288.72 1536.98 1290.52 1540.55 Q1292.35 1544.09 1295.96 1544.09 Q1299.6 1544.09 1301.4 1540.55 Q1303.23 1536.98 1303.23 1529.87 Q1303.23 1522.75 1301.4 1519.2 Q1299.6 1515.64 1295.96 1515.64 M1295.96 1511.93 Q1301.77 1511.93 1304.83 1516.54 Q1307.91 1521.12 1307.91 1529.87 Q1307.91 1538.6 1304.83 1543.21 Q1301.77 1547.79 1295.96 1547.79 Q1290.15 1547.79 1287.07 1543.21 Q1284.02 1538.6 1284.02 1529.87 Q1284.02 1521.12 1287.07 1516.54 Q1290.15 1511.93 1295.96 1511.93 Z\" fill=\"#000000\" fill-rule=\"evenodd\" fill-opacity=\"1\" /><path clip-path=\"url(#clip440)\" d=\"M1650.26 1543.18 L1666.57 1543.18 L1666.57 1547.12 L1644.63 1547.12 L1644.63 1543.18 Q1647.29 1540.43 1651.88 1535.8 Q1656.48 1531.15 1657.66 1529.81 Q1659.91 1527.28 1660.79 1525.55 Q1661.69 1523.79 1661.69 1522.1 Q1661.69 1519.34 1659.75 1517.61 Q1657.82 1515.87 1654.72 1515.87 Q1652.52 1515.87 1650.07 1516.63 Q1647.64 1517.4 1644.86 1518.95 L1644.86 1514.23 Q1647.69 1513.09 1650.14 1512.51 Q1652.59 1511.93 1654.63 1511.93 Q1660 1511.93 1663.2 1514.62 Q1666.39 1517.31 1666.39 1521.8 Q1666.39 1523.93 1665.58 1525.85 Q1664.79 1527.74 1662.69 1530.34 Q1662.11 1531.01 1659.01 1534.23 Q1655.9 1537.42 1650.26 1543.18 Z\" fill=\"#000000\" fill-rule=\"evenodd\" fill-opacity=\"1\" /><path clip-path=\"url(#clip440)\" d=\"M1676.39 1541.24 L1681.27 1541.24 L1681.27 1547.12 L1676.39 1547.12 L1676.39 1541.24 Z\" fill=\"#000000\" fill-rule=\"evenodd\" fill-opacity=\"1\" /><path clip-path=\"url(#clip440)\" d=\"M1691.51 1512.56 L1709.86 1512.56 L1709.86 1516.5 L1695.79 1516.5 L1695.79 1524.97 Q1696.81 1524.62 1697.82 1524.46 Q1698.84 1524.27 1699.86 1524.27 Q1705.65 1524.27 1709.03 1527.44 Q1712.41 1530.62 1712.41 1536.03 Q1712.41 1541.61 1708.94 1544.71 Q1705.46 1547.79 1699.14 1547.79 Q1696.97 1547.79 1694.7 1547.42 Q1692.45 1547.05 1690.05 1546.31 L1690.05 1541.61 Q1692.13 1542.74 1694.35 1543.3 Q1696.57 1543.86 1699.05 1543.86 Q1703.06 1543.86 1705.39 1541.75 Q1707.73 1539.64 1707.73 1536.03 Q1707.73 1532.42 1705.39 1530.31 Q1703.06 1528.21 1699.05 1528.21 Q1697.18 1528.21 1695.3 1528.62 Q1693.45 1529.04 1691.51 1529.92 L1691.51 1512.56 Z\" fill=\"#000000\" fill-rule=\"evenodd\" fill-opacity=\"1\" /><path clip-path=\"url(#clip440)\" d=\"M2050.86 1512.56 L2069.21 1512.56 L2069.21 1516.5 L2055.14 1516.5 L2055.14 1524.97 Q2056.16 1524.62 2057.18 1524.46 Q2058.19 1524.27 2059.21 1524.27 Q2065 1524.27 2068.38 1527.44 Q2071.76 1530.62 2071.76 1536.03 Q2071.76 1541.61 2068.29 1544.71 Q2064.82 1547.79 2058.5 1547.79 Q2056.32 1547.79 2054.05 1547.42 Q2051.81 1547.05 2049.4 1546.31 L2049.4 1541.61 Q2051.48 1542.74 2053.7 1543.3 Q2055.93 1543.86 2058.4 1543.86 Q2062.41 1543.86 2064.75 1541.75 Q2067.08 1539.64 2067.08 1536.03 Q2067.08 1532.42 2064.75 1530.31 Q2062.41 1528.21 2058.4 1528.21 Q2056.53 1528.21 2054.65 1528.62 Q2052.8 1529.04 2050.86 1529.92 L2050.86 1512.56 Z\" fill=\"#000000\" fill-rule=\"evenodd\" fill-opacity=\"1\" /><path clip-path=\"url(#clip440)\" d=\"M2080.97 1541.24 L2085.86 1541.24 L2085.86 1547.12 L2080.97 1547.12 L2080.97 1541.24 Z\" fill=\"#000000\" fill-rule=\"evenodd\" fill-opacity=\"1\" /><path clip-path=\"url(#clip440)\" d=\"M2106.04 1515.64 Q2102.43 1515.64 2100.6 1519.2 Q2098.8 1522.75 2098.8 1529.87 Q2098.8 1536.98 2100.6 1540.55 Q2102.43 1544.09 2106.04 1544.09 Q2109.68 1544.09 2111.48 1540.55 Q2113.31 1536.98 2113.31 1529.87 Q2113.31 1522.75 2111.48 1519.2 Q2109.68 1515.64 2106.04 1515.64 M2106.04 1511.93 Q2111.85 1511.93 2114.91 1516.54 Q2117.99 1521.12 2117.99 1529.87 Q2117.99 1538.6 2114.91 1543.21 Q2111.85 1547.79 2106.04 1547.79 Q2100.23 1547.79 2097.15 1543.21 Q2094.1 1538.6 2094.1 1529.87 Q2094.1 1521.12 2097.15 1516.54 Q2100.23 1511.93 2106.04 1511.93 Z\" fill=\"#000000\" fill-rule=\"evenodd\" fill-opacity=\"1\" /><polyline clip-path=\"url(#clip442)\" style=\"stroke:#000000; stroke-linecap:butt; stroke-linejoin:round; stroke-width:2; stroke-opacity:0.1; fill:none\" points=\"\n",
       "  193.936,1445.79 2352.76,1445.79 \n",
       "  \"/>\n",
       "<polyline clip-path=\"url(#clip442)\" style=\"stroke:#000000; stroke-linecap:butt; stroke-linejoin:round; stroke-width:2; stroke-opacity:0.1; fill:none\" points=\"\n",
       "  193.936,1106.27 2352.76,1106.27 \n",
       "  \"/>\n",
       "<polyline clip-path=\"url(#clip442)\" style=\"stroke:#000000; stroke-linecap:butt; stroke-linejoin:round; stroke-width:2; stroke-opacity:0.1; fill:none\" points=\"\n",
       "  193.936,766.755 2352.76,766.755 \n",
       "  \"/>\n",
       "<polyline clip-path=\"url(#clip442)\" style=\"stroke:#000000; stroke-linecap:butt; stroke-linejoin:round; stroke-width:2; stroke-opacity:0.1; fill:none\" points=\"\n",
       "  193.936,427.236 2352.76,427.236 \n",
       "  \"/>\n",
       "<polyline clip-path=\"url(#clip442)\" style=\"stroke:#000000; stroke-linecap:butt; stroke-linejoin:round; stroke-width:2; stroke-opacity:0.1; fill:none\" points=\"\n",
       "  193.936,87.7173 2352.76,87.7173 \n",
       "  \"/>\n",
       "<polyline clip-path=\"url(#clip440)\" style=\"stroke:#000000; stroke-linecap:butt; stroke-linejoin:round; stroke-width:4; stroke-opacity:1; fill:none\" points=\"\n",
       "  193.936,1486.45 193.936,47.2441 \n",
       "  \"/>\n",
       "<polyline clip-path=\"url(#clip440)\" style=\"stroke:#000000; stroke-linecap:butt; stroke-linejoin:round; stroke-width:4; stroke-opacity:1; fill:none\" points=\"\n",
       "  193.936,1445.79 212.834,1445.79 \n",
       "  \"/>\n",
       "<polyline clip-path=\"url(#clip440)\" style=\"stroke:#000000; stroke-linecap:butt; stroke-linejoin:round; stroke-width:4; stroke-opacity:1; fill:none\" points=\"\n",
       "  193.936,1106.27 212.834,1106.27 \n",
       "  \"/>\n",
       "<polyline clip-path=\"url(#clip440)\" style=\"stroke:#000000; stroke-linecap:butt; stroke-linejoin:round; stroke-width:4; stroke-opacity:1; fill:none\" points=\"\n",
       "  193.936,766.755 212.834,766.755 \n",
       "  \"/>\n",
       "<polyline clip-path=\"url(#clip440)\" style=\"stroke:#000000; stroke-linecap:butt; stroke-linejoin:round; stroke-width:4; stroke-opacity:1; fill:none\" points=\"\n",
       "  193.936,427.236 212.834,427.236 \n",
       "  \"/>\n",
       "<polyline clip-path=\"url(#clip440)\" style=\"stroke:#000000; stroke-linecap:butt; stroke-linejoin:round; stroke-width:4; stroke-opacity:1; fill:none\" points=\"\n",
       "  193.936,87.7173 212.834,87.7173 \n",
       "  \"/>\n",
       "<path clip-path=\"url(#clip440)\" d=\"M50.9921 1446.24 L80.6679 1446.24 L80.6679 1450.18 L50.9921 1450.18 L50.9921 1446.24 Z\" fill=\"#000000\" fill-rule=\"evenodd\" fill-opacity=\"1\" /><path clip-path=\"url(#clip440)\" d=\"M91.5706 1459.14 L99.2095 1459.14 L99.2095 1432.77 L90.8993 1434.44 L90.8993 1430.18 L99.1632 1428.51 L103.839 1428.51 L103.839 1459.14 L111.478 1459.14 L111.478 1463.07 L91.5706 1463.07 L91.5706 1459.14 Z\" fill=\"#000000\" fill-rule=\"evenodd\" fill-opacity=\"1\" /><path clip-path=\"url(#clip440)\" d=\"M120.922 1457.19 L125.807 1457.19 L125.807 1463.07 L120.922 1463.07 L120.922 1457.19 Z\" fill=\"#000000\" fill-rule=\"evenodd\" fill-opacity=\"1\" /><path clip-path=\"url(#clip440)\" d=\"M145.992 1431.59 Q142.381 1431.59 140.552 1435.16 Q138.746 1438.7 138.746 1445.83 Q138.746 1452.93 140.552 1456.5 Q142.381 1460.04 145.992 1460.04 Q149.626 1460.04 151.431 1456.5 Q153.26 1452.93 153.26 1445.83 Q153.26 1438.7 151.431 1435.16 Q149.626 1431.59 145.992 1431.59 M145.992 1427.89 Q151.802 1427.89 154.857 1432.49 Q157.936 1437.08 157.936 1445.83 Q157.936 1454.55 154.857 1459.16 Q151.802 1463.74 145.992 1463.74 Q140.181 1463.74 137.103 1459.16 Q134.047 1454.55 134.047 1445.83 Q134.047 1437.08 137.103 1432.49 Q140.181 1427.89 145.992 1427.89 Z\" fill=\"#000000\" fill-rule=\"evenodd\" fill-opacity=\"1\" /><path clip-path=\"url(#clip440)\" d=\"M51.9875 1106.73 L81.6633 1106.73 L81.6633 1110.66 L51.9875 1110.66 L51.9875 1106.73 Z\" fill=\"#000000\" fill-rule=\"evenodd\" fill-opacity=\"1\" /><path clip-path=\"url(#clip440)\" d=\"M101.756 1092.07 Q98.1447 1092.07 96.316 1095.64 Q94.5104 1099.18 94.5104 1106.31 Q94.5104 1113.42 96.316 1116.98 Q98.1447 1120.52 101.756 1120.52 Q105.39 1120.52 107.196 1116.98 Q109.024 1113.42 109.024 1106.31 Q109.024 1099.18 107.196 1095.64 Q105.39 1092.07 101.756 1092.07 M101.756 1088.37 Q107.566 1088.37 110.621 1092.98 Q113.7 1097.56 113.7 1106.31 Q113.7 1115.04 110.621 1119.64 Q107.566 1124.23 101.756 1124.23 Q95.9456 1124.23 92.8669 1119.64 Q89.8114 1115.04 89.8114 1106.31 Q89.8114 1097.56 92.8669 1092.98 Q95.9456 1088.37 101.756 1088.37 Z\" fill=\"#000000\" fill-rule=\"evenodd\" fill-opacity=\"1\" /><path clip-path=\"url(#clip440)\" d=\"M121.918 1117.67 L126.802 1117.67 L126.802 1123.55 L121.918 1123.55 L121.918 1117.67 Z\" fill=\"#000000\" fill-rule=\"evenodd\" fill-opacity=\"1\" /><path clip-path=\"url(#clip440)\" d=\"M137.033 1088.99 L155.39 1088.99 L155.39 1092.93 L141.316 1092.93 L141.316 1101.4 Q142.334 1101.05 143.353 1100.89 Q144.371 1100.71 145.39 1100.71 Q151.177 1100.71 154.556 1103.88 Q157.936 1107.05 157.936 1112.47 Q157.936 1118.04 154.464 1121.15 Q150.992 1124.23 144.672 1124.23 Q142.496 1124.23 140.228 1123.86 Q137.982 1123.48 135.575 1122.74 L135.575 1118.04 Q137.658 1119.18 139.881 1119.73 Q142.103 1120.29 144.58 1120.29 Q148.584 1120.29 150.922 1118.18 Q153.26 1116.08 153.26 1112.47 Q153.26 1108.86 150.922 1106.75 Q148.584 1104.64 144.58 1104.64 Q142.705 1104.64 140.83 1105.06 Q138.978 1105.48 137.033 1106.36 L137.033 1088.99 Z\" fill=\"#000000\" fill-rule=\"evenodd\" fill-opacity=\"1\" /><path clip-path=\"url(#clip440)\" d=\"M100.76 752.554 Q97.1493 752.554 95.3206 756.119 Q93.515 759.66 93.515 766.79 Q93.515 773.896 95.3206 777.461 Q97.1493 781.003 100.76 781.003 Q104.395 781.003 106.2 777.461 Q108.029 773.896 108.029 766.79 Q108.029 759.66 106.2 756.119 Q104.395 752.554 100.76 752.554 M100.76 748.85 Q106.571 748.85 109.626 753.457 Q112.705 758.04 112.705 766.79 Q112.705 775.517 109.626 780.123 Q106.571 784.707 100.76 784.707 Q94.9502 784.707 91.8715 780.123 Q88.816 775.517 88.816 766.79 Q88.816 758.04 91.8715 753.457 Q94.9502 748.85 100.76 748.85 Z\" fill=\"#000000\" fill-rule=\"evenodd\" fill-opacity=\"1\" /><path clip-path=\"url(#clip440)\" d=\"M120.922 778.156 L125.807 778.156 L125.807 784.035 L120.922 784.035 L120.922 778.156 Z\" fill=\"#000000\" fill-rule=\"evenodd\" fill-opacity=\"1\" /><path clip-path=\"url(#clip440)\" d=\"M145.992 752.554 Q142.381 752.554 140.552 756.119 Q138.746 759.66 138.746 766.79 Q138.746 773.896 140.552 777.461 Q142.381 781.003 145.992 781.003 Q149.626 781.003 151.431 777.461 Q153.26 773.896 153.26 766.79 Q153.26 759.66 151.431 756.119 Q149.626 752.554 145.992 752.554 M145.992 748.85 Q151.802 748.85 154.857 753.457 Q157.936 758.04 157.936 766.79 Q157.936 775.517 154.857 780.123 Q151.802 784.707 145.992 784.707 Q140.181 784.707 137.103 780.123 Q134.047 775.517 134.047 766.79 Q134.047 758.04 137.103 753.457 Q140.181 748.85 145.992 748.85 Z\" fill=\"#000000\" fill-rule=\"evenodd\" fill-opacity=\"1\" /><path clip-path=\"url(#clip440)\" d=\"M101.756 413.035 Q98.1447 413.035 96.316 416.6 Q94.5104 420.141 94.5104 427.271 Q94.5104 434.377 96.316 437.942 Q98.1447 441.484 101.756 441.484 Q105.39 441.484 107.196 437.942 Q109.024 434.377 109.024 427.271 Q109.024 420.141 107.196 416.6 Q105.39 413.035 101.756 413.035 M101.756 409.331 Q107.566 409.331 110.621 413.938 Q113.7 418.521 113.7 427.271 Q113.7 435.998 110.621 440.604 Q107.566 445.188 101.756 445.188 Q95.9456 445.188 92.8669 440.604 Q89.8114 435.998 89.8114 427.271 Q89.8114 418.521 92.8669 413.938 Q95.9456 409.331 101.756 409.331 Z\" fill=\"#000000\" fill-rule=\"evenodd\" fill-opacity=\"1\" /><path clip-path=\"url(#clip440)\" d=\"M121.918 438.637 L126.802 438.637 L126.802 444.516 L121.918 444.516 L121.918 438.637 Z\" fill=\"#000000\" fill-rule=\"evenodd\" fill-opacity=\"1\" /><path clip-path=\"url(#clip440)\" d=\"M137.033 409.956 L155.39 409.956 L155.39 413.891 L141.316 413.891 L141.316 422.364 Q142.334 422.016 143.353 421.854 Q144.371 421.669 145.39 421.669 Q151.177 421.669 154.556 424.84 Q157.936 428.012 157.936 433.428 Q157.936 439.007 154.464 442.109 Q150.992 445.188 144.672 445.188 Q142.496 445.188 140.228 444.817 Q137.982 444.447 135.575 443.706 L135.575 439.007 Q137.658 440.141 139.881 440.697 Q142.103 441.252 144.58 441.252 Q148.584 441.252 150.922 439.146 Q153.26 437.039 153.26 433.428 Q153.26 429.817 150.922 427.711 Q148.584 425.604 144.58 425.604 Q142.705 425.604 140.83 426.021 Q138.978 426.438 137.033 427.317 L137.033 409.956 Z\" fill=\"#000000\" fill-rule=\"evenodd\" fill-opacity=\"1\" /><path clip-path=\"url(#clip440)\" d=\"M91.5706 101.062 L99.2095 101.062 L99.2095 74.6965 L90.8993 76.3632 L90.8993 72.1039 L99.1632 70.4373 L103.839 70.4373 L103.839 101.062 L111.478 101.062 L111.478 104.997 L91.5706 104.997 L91.5706 101.062 Z\" fill=\"#000000\" fill-rule=\"evenodd\" fill-opacity=\"1\" /><path clip-path=\"url(#clip440)\" d=\"M120.922 99.1177 L125.807 99.1177 L125.807 104.997 L120.922 104.997 L120.922 99.1177 Z\" fill=\"#000000\" fill-rule=\"evenodd\" fill-opacity=\"1\" /><path clip-path=\"url(#clip440)\" d=\"M145.992 73.516 Q142.381 73.516 140.552 77.0808 Q138.746 80.6224 138.746 87.752 Q138.746 94.8585 140.552 98.4233 Q142.381 101.965 145.992 101.965 Q149.626 101.965 151.431 98.4233 Q153.26 94.8585 153.26 87.752 Q153.26 80.6224 151.431 77.0808 Q149.626 73.516 145.992 73.516 M145.992 69.8123 Q151.802 69.8123 154.857 74.4188 Q157.936 79.0021 157.936 87.752 Q157.936 96.4788 154.857 101.085 Q151.802 105.669 145.992 105.669 Q140.181 105.669 137.103 101.085 Q134.047 96.4788 134.047 87.752 Q134.047 79.0021 137.103 74.4188 Q140.181 69.8123 145.992 69.8123 Z\" fill=\"#000000\" fill-rule=\"evenodd\" fill-opacity=\"1\" /><polyline clip-path=\"url(#clip442)\" style=\"stroke:#009af9; stroke-linecap:butt; stroke-linejoin:round; stroke-width:4; stroke-opacity:1; fill:none\" points=\"\n",
       "  255.035,766.755 260.007,745.925 264.979,725.115 269.952,704.344 274.924,683.632 320.9,498.326 366.877,334.477 389.865,264.789 412.853,205.183 435.841,156.857 \n",
       "  458.829,120.781 472.644,105.306 486.459,94.6349 500.274,88.8442 514.089,87.9763 527.904,92.0373 541.719,100.998 555.534,114.793 569.348,133.322 592.709,175.033 \n",
       "  616.07,229.017 627.75,260.271 639.431,294.154 651.111,330.491 662.791,369.092 713.544,557.993 764.296,767.199 811.085,960.506 857.875,1137.78 870.416,1180.63 \n",
       "  882.956,1221.01 895.497,1258.66 908.038,1293.38 933.119,1353.16 958.201,1398.93 972.731,1418.58 987.26,1433 1001.79,1442.07 1016.32,1445.72 1030.85,1443.91 \n",
       "  1045.38,1436.66 1059.91,1424.03 1074.44,1406.13 1100.26,1361.74 1126.09,1302.28 1151.91,1229.25 1177.74,1144.5 1223.03,974.204 1268.32,787.809 1317.7,583.23 \n",
       "  1367.08,395.558 1391.92,313.112 1416.75,241.299 1441.59,181.803 1466.43,136.017 1480.16,116.996 1493.89,102.636 1507.62,93.0401 1521.35,88.2761 1535.08,88.3788 \n",
       "  1548.81,93.3473 1562.54,103.146 1576.27,117.705 1602.4,158.154 1628.52,214.386 1641.59,247.98 1654.65,284.943 1667.72,325.035 1680.78,367.996 1735.11,571.023 \n",
       "  1789.45,795.844 1835.18,983.616 1880.92,1154.23 1894.88,1200.77 1908.84,1244.09 1922.8,1283.86 1936.76,1319.81 1950.72,1351.65 1964.68,1379.16 1978.64,1402.13 \n",
       "  1992.6,1420.38 2005.72,1433.12 2018.85,1441.5 2031.97,1445.46 2045.09,1444.96 2058.21,1440.03 2071.34,1430.68 2084.46,1416.98 2097.58,1399.02 2118.61,1361.67 \n",
       "  2139.63,1314.33 2160.65,1257.78 2181.68,1192.99 2223.73,1043.11 2265.77,874.742 2272.24,847.897 2278.72,820.921 2285.19,793.86 2291.66,766.755 \n",
       "  \"/>\n",
       "<path clip-path=\"url(#clip440)\" d=\"\n",
       "M1914.61 198.898 L2280.8 198.898 L2280.8 95.2176 L1914.61 95.2176  Z\n",
       "  \" fill=\"#ffffff\" fill-rule=\"evenodd\" fill-opacity=\"1\"/>\n",
       "<polyline clip-path=\"url(#clip440)\" style=\"stroke:#000000; stroke-linecap:butt; stroke-linejoin:round; stroke-width:4; stroke-opacity:1; fill:none\" points=\"\n",
       "  1914.61,198.898 2280.8,198.898 2280.8,95.2176 1914.61,95.2176 1914.61,198.898 \n",
       "  \"/>\n",
       "<polyline clip-path=\"url(#clip440)\" style=\"stroke:#009af9; stroke-linecap:butt; stroke-linejoin:round; stroke-width:4; stroke-opacity:1; fill:none\" points=\"\n",
       "  1938.59,147.058 2082.52,147.058 \n",
       "  \"/>\n",
       "<path clip-path=\"url(#clip440)\" d=\"M2124.93 139.176 L2124.93 143.203 Q2123.12 142.277 2121.18 141.815 Q2119.23 141.352 2117.15 141.352 Q2113.98 141.352 2112.38 142.324 Q2110.81 143.296 2110.81 145.24 Q2110.81 146.722 2111.94 147.578 Q2113.08 148.412 2116.5 149.176 L2117.96 149.5 Q2122.5 150.472 2124.4 152.254 Q2126.32 154.014 2126.32 157.185 Q2126.32 160.796 2123.45 162.902 Q2120.6 165.009 2115.6 165.009 Q2113.52 165.009 2111.25 164.592 Q2109 164.199 2106.5 163.388 L2106.5 158.99 Q2108.86 160.217 2111.16 160.842 Q2113.45 161.444 2115.69 161.444 Q2118.7 161.444 2120.32 160.426 Q2121.94 159.384 2121.94 157.509 Q2121.94 155.773 2120.76 154.847 Q2119.6 153.921 2115.65 153.064 L2114.16 152.717 Q2110.21 151.884 2108.45 150.171 Q2106.69 148.435 2106.69 145.426 Q2106.69 141.768 2109.28 139.778 Q2111.87 137.787 2116.64 137.787 Q2119 137.787 2121.09 138.134 Q2123.17 138.481 2124.93 139.176 Z\" fill=\"#000000\" fill-rule=\"evenodd\" fill-opacity=\"1\" /><path clip-path=\"url(#clip440)\" d=\"M2133.1 138.412 L2137.36 138.412 L2137.36 164.338 L2133.1 164.338 L2133.1 138.412 M2133.1 128.319 L2137.36 128.319 L2137.36 133.713 L2133.1 133.713 L2133.1 128.319 Z\" fill=\"#000000\" fill-rule=\"evenodd\" fill-opacity=\"1\" /><path clip-path=\"url(#clip440)\" d=\"M2167.82 148.689 L2167.82 164.338 L2163.56 164.338 L2163.56 148.828 Q2163.56 145.148 2162.13 143.319 Q2160.69 141.49 2157.82 141.49 Q2154.37 141.49 2152.38 143.69 Q2150.39 145.889 2150.39 149.685 L2150.39 164.338 L2146.11 164.338 L2146.11 138.412 L2150.39 138.412 L2150.39 142.44 Q2151.92 140.102 2153.98 138.944 Q2156.06 137.787 2158.77 137.787 Q2163.24 137.787 2165.53 140.565 Q2167.82 143.319 2167.82 148.689 Z\" fill=\"#000000\" fill-rule=\"evenodd\" fill-opacity=\"1\" /><path clip-path=\"url(#clip440)\" d=\"M2186.55 128.366 Q2183.45 133.69 2181.94 138.898 Q2180.44 144.106 2180.44 149.453 Q2180.44 154.801 2181.94 160.055 Q2183.47 165.287 2186.55 170.588 L2182.84 170.588 Q2179.37 165.148 2177.64 159.893 Q2175.92 154.639 2175.92 149.453 Q2175.92 144.291 2177.64 139.06 Q2179.35 133.828 2182.84 128.366 L2186.55 128.366 Z\" fill=\"#000000\" fill-rule=\"evenodd\" fill-opacity=\"1\" /><path clip-path=\"url(#clip440)\" d=\"M2216.36 138.412 L2206.99 151.027 L2216.85 164.338 L2211.83 164.338 L2204.28 154.152 L2196.73 164.338 L2191.71 164.338 L2201.78 150.773 L2192.57 138.412 L2197.59 138.412 L2204.47 147.648 L2211.34 138.412 L2216.36 138.412 Z\" fill=\"#000000\" fill-rule=\"evenodd\" fill-opacity=\"1\" /><path clip-path=\"url(#clip440)\" d=\"M2222.2 128.366 L2225.9 128.366 Q2229.37 133.828 2231.09 139.06 Q2232.82 144.291 2232.82 149.453 Q2232.82 154.639 2231.09 159.893 Q2229.37 165.148 2225.9 170.588 L2222.2 170.588 Q2225.28 165.287 2226.78 160.055 Q2228.31 154.801 2228.31 149.453 Q2228.31 144.106 2226.78 138.898 Q2225.28 133.69 2222.2 128.366 Z\" fill=\"#000000\" fill-rule=\"evenodd\" fill-opacity=\"1\" /></svg>\n"
      ]
     },
     "metadata": {},
     "output_type": "display_data"
    }
   ],
   "source": [
    "using Plots\n",
    "plot(sin, -2π, 2π, label=\"sin(x)\")"
   ]
  },
  {
   "cell_type": "code",
   "execution_count": 2,
   "id": "2e2627e4",
   "metadata": {},
   "outputs": [
    {
     "data": {
      "image/png": "[encoded data removed]",
      "image/svg+xml": "<?xml version=\"1.0\" encoding=\"utf-8\"?>\n<svg xmlns=\"http://www.w3.org/2000/svg\" xmlns:xlink=\"http://www.w3.org/1999/xlink\" width=\"600\" height=\"400\" viewBox=\"0 0 2400 1600\">\n<defs>\n  <clipPath id=\"clip480\">\n    <rect x=\"0\" y=\"0\" width=\"2400\" height=\"1600\"/>\n  </clipPath>\n</defs>\n<path clip-path=\"url(#clip480)\" d=\"\nM0 1600 L2400 1600 L2400 0 L0 0  Z\n  \" fill=\"#ffffff\" fill-rule=\"evenodd\" fill-opacity=\"1\"/>\n<defs>\n  <clipPath id=\"clip481\">\n    <rect x=\"480\" y=\"0\" width=\"1681\" height=\"1600\"/>\n  </clipPath>\n</defs>\n<path clip-path=\"url(#clip480)\" d=\"\nM193.936 1486.45 L2352.76 1486.45 L2352.76 47.2441 L193.936 47.2441  Z\n  \" fill=\"#ffffff\" fill-rule=\"evenodd\" fill-opacity=\"1\"/>\n<defs>\n  <clipPath id=\"clip482\">\n    <rect x=\"193\" y=\"47\" width=\"2160\" height=\"1440\"/>\n  </clipPath>\n</defs>\n<polyline clip-path=\"url(#clip482)\" style=\"stroke:#000000; stroke-linecap:butt; stroke-linejoin:round; stroke-width:2; stroke-opacity:0.1; fill:none\" points=\"\n  463,1486.45 463,47.2441 \n  \"/>\n<polyline clip-path=\"url(#clip482)\" style=\"stroke:#000000; stroke-linecap:butt; stroke-linejoin:round; stroke-width:2; stroke-opacity:0.1; fill:none\" points=\"\n  868.173,1486.45 868.173,47.2441 \n  \"/>\n<polyline clip-path=\"url(#clip482)\" style=\"stroke:#000000; stroke-linecap:butt; stroke-linejoin:round; stroke-width:2; stroke-opacity:0.1; fill:none\" points=\"\n  1273.35,1486.45 1273.35,47.2441 \n  \"/>\n<polyline clip-path=\"url(#clip482)\" style=\"stroke:#000000; stroke-linecap:butt; stroke-linejoin:round; stroke-width:2; stroke-opacity:0.1; fill:none\" points=\"\n  1678.52,1486.45 1678.52,47.2441 \n  \"/>\n<polyline clip-path=\"url(#clip482)\" style=\"stroke:#000000; stroke-linecap:butt; stroke-linejoin:round; stroke-width:2; stroke-opacity:0.1; fill:none\" points=\"\n  2083.69,1486.45 2083.69,47.2441 \n  \"/>\n<polyline clip-path=\"url(#clip480)\" style=\"stroke:#000000; stroke-linecap:butt; stroke-linejoin:round; stroke-width:4; stroke-opacity:1; fill:none\" points=\"\n  193.936,1486.45 2352.76,1486.45 \n  \"/>\n<polyline clip-path=\"url(#clip480)\" style=\"stroke:#000000; stroke-linecap:butt; stroke-linejoin:round; stroke-width:4; stroke-opacity:1; fill:none\" points=\"\n  463,1486.45 463,1467.55 \n  \"/>\n<polyline clip-path=\"url(#clip480)\" style=\"stroke:#000000; stroke-linecap:butt; stroke-linejoin:round; stroke-width:4; stroke-opacity:1; fill:none\" points=\"\n  868.173,1486.45 868.173,1467.55 \n  \"/>\n<polyline clip-path=\"url(#clip480)\" style=\"stroke:#000000; stroke-linecap:butt; stroke-linejoin:round; stroke-width:4; stroke-opacity:1; fill:none\" points=\"\n  1273.35,1486.45 1273.35,1467.55 \n  \"/>\n<polyline clip-path=\"url(#clip480)\" style=\"stroke:#000000; stroke-linecap:butt; stroke-linejoin:round; stroke-width:4; stroke-opacity:1; fill:none\" points=\"\n  1678.52,1486.45 1678.52,1467.55 \n  \"/>\n<polyline clip-path=\"url(#clip480)\" style=\"stroke:#000000; stroke-linecap:butt; stroke-linejoin:round; stroke-width:4; stroke-opacity:1; fill:none\" points=\"\n  2083.69,1486.45 2083.69,1467.55 \n  \"/>\n<path clip-path=\"url(#clip480)\" d=\"M409.528 1530.29 L439.203 1530.29 L439.203 1534.23 L409.528 1534.23 L409.528 1530.29 Z\" fill=\"#000000\" fill-rule=\"evenodd\" fill-opacity=\"1\" /><path clip-path=\"url(#clip480)\" d=\"M449.342 1512.56 L467.699 1512.56 L467.699 1516.5 L453.625 1516.5 L453.625 1524.97 Q454.643 1524.62 455.662 1524.46 Q456.68 1524.27 457.699 1524.27 Q463.486 1524.27 466.865 1527.44 Q470.245 1530.62 470.245 1536.03 Q470.245 1541.61 466.773 1544.71 Q463.301 1547.79 456.981 1547.79 Q454.805 1547.79 452.537 1547.42 Q450.291 1547.05 447.884 1546.31 L447.884 1541.61 Q449.967 1542.74 452.189 1543.3 Q454.412 1543.86 456.889 1543.86 Q460.893 1543.86 463.231 1541.75 Q465.569 1539.64 465.569 1536.03 Q465.569 1532.42 463.231 1530.31 Q460.893 1528.21 456.889 1528.21 Q455.014 1528.21 453.139 1528.62 Q451.287 1529.04 449.342 1529.92 L449.342 1512.56 Z\" fill=\"#000000\" fill-rule=\"evenodd\" fill-opacity=\"1\" /><path clip-path=\"url(#clip480)\" d=\"M479.458 1541.24 L484.342 1541.24 L484.342 1547.12 L479.458 1547.12 L479.458 1541.24 Z\" fill=\"#000000\" fill-rule=\"evenodd\" fill-opacity=\"1\" /><path clip-path=\"url(#clip480)\" d=\"M504.527 1515.64 Q500.916 1515.64 499.087 1519.2 Q497.282 1522.75 497.282 1529.87 Q497.282 1536.98 499.087 1540.55 Q500.916 1544.09 504.527 1544.09 Q508.161 1544.09 509.967 1540.55 Q511.796 1536.98 511.796 1529.87 Q511.796 1522.75 509.967 1519.2 Q508.161 1515.64 504.527 1515.64 M504.527 1511.93 Q510.337 1511.93 513.393 1516.54 Q516.472 1521.12 516.472 1529.87 Q516.472 1538.6 513.393 1543.21 Q510.337 1547.79 504.527 1547.79 Q498.717 1547.79 495.638 1543.21 Q492.583 1538.6 492.583 1529.87 Q492.583 1521.12 495.638 1516.54 Q498.717 1511.93 504.527 1511.93 Z\" fill=\"#000000\" fill-rule=\"evenodd\" fill-opacity=\"1\" /><path clip-path=\"url(#clip480)\" d=\"M815.199 1530.29 L844.874 1530.29 L844.874 1534.23 L815.199 1534.23 L815.199 1530.29 Z\" fill=\"#000000\" fill-rule=\"evenodd\" fill-opacity=\"1\" /><path clip-path=\"url(#clip480)\" d=\"M858.995 1543.18 L875.314 1543.18 L875.314 1547.12 L853.37 1547.12 L853.37 1543.18 Q856.032 1540.43 860.615 1535.8 Q865.221 1531.15 866.402 1529.81 Q868.647 1527.28 869.527 1525.55 Q870.43 1523.79 870.43 1522.1 Q870.43 1519.34 868.485 1517.61 Q866.564 1515.87 863.462 1515.87 Q861.263 1515.87 858.809 1516.63 Q856.379 1517.4 853.601 1518.95 L853.601 1514.23 Q856.425 1513.09 858.879 1512.51 Q861.333 1511.93 863.37 1511.93 Q868.74 1511.93 871.934 1514.62 Q875.129 1517.31 875.129 1521.8 Q875.129 1523.93 874.319 1525.85 Q873.532 1527.74 871.425 1530.34 Q870.846 1531.01 867.745 1534.23 Q864.643 1537.42 858.995 1543.18 Z\" fill=\"#000000\" fill-rule=\"evenodd\" fill-opacity=\"1\" /><path clip-path=\"url(#clip480)\" d=\"M885.129 1541.24 L890.013 1541.24 L890.013 1547.12 L885.129 1547.12 L885.129 1541.24 Z\" fill=\"#000000\" fill-rule=\"evenodd\" fill-opacity=\"1\" /><path clip-path=\"url(#clip480)\" d=\"M900.244 1512.56 L918.601 1512.56 L918.601 1516.5 L904.527 1516.5 L904.527 1524.97 Q905.545 1524.62 906.564 1524.46 Q907.582 1524.27 908.601 1524.27 Q914.388 1524.27 917.767 1527.44 Q921.147 1530.62 921.147 1536.03 Q921.147 1541.61 917.675 1544.71 Q914.203 1547.79 907.883 1547.79 Q905.707 1547.79 903.439 1547.42 Q901.193 1547.05 898.786 1546.31 L898.786 1541.61 Q900.869 1542.74 903.092 1543.3 Q905.314 1543.86 907.791 1543.86 Q911.795 1543.86 914.133 1541.75 Q916.471 1539.64 916.471 1536.03 Q916.471 1532.42 914.133 1530.31 Q911.795 1528.21 907.791 1528.21 Q905.916 1528.21 904.041 1528.62 Q902.189 1529.04 900.244 1529.92 L900.244 1512.56 Z\" fill=\"#000000\" fill-rule=\"evenodd\" fill-opacity=\"1\" /><path clip-path=\"url(#clip480)\" d=\"M1250.73 1515.64 Q1247.12 1515.64 1245.29 1519.2 Q1243.49 1522.75 1243.49 1529.87 Q1243.49 1536.98 1245.29 1540.55 Q1247.12 1544.09 1250.73 1544.09 Q1254.36 1544.09 1256.17 1540.55 Q1258 1536.98 1258 1529.87 Q1258 1522.75 1256.17 1519.2 Q1254.36 1515.64 1250.73 1515.64 M1250.73 1511.93 Q1256.54 1511.93 1259.6 1516.54 Q1262.67 1521.12 1262.67 1529.87 Q1262.67 1538.6 1259.6 1543.21 Q1256.54 1547.79 1250.73 1547.79 Q1244.92 1547.79 1241.84 1543.21 Q1238.79 1538.6 1238.79 1529.87 Q1238.79 1521.12 1241.84 1516.54 Q1244.92 1511.93 1250.73 1511.93 Z\" fill=\"#000000\" fill-rule=\"evenodd\" fill-opacity=\"1\" /><path clip-path=\"url(#clip480)\" d=\"M1270.89 1541.24 L1275.78 1541.24 L1275.78 1547.12 L1270.89 1547.12 L1270.89 1541.24 Z\" fill=\"#000000\" fill-rule=\"evenodd\" fill-opacity=\"1\" /><path clip-path=\"url(#clip480)\" d=\"M1295.96 1515.64 Q1292.35 1515.64 1290.52 1519.2 Q1288.72 1522.75 1288.72 1529.87 Q1288.72 1536.98 1290.52 1540.55 Q1292.35 1544.09 1295.96 1544.09 Q1299.6 1544.09 1301.4 1540.55 Q1303.23 1536.98 1303.23 1529.87 Q1303.23 1522.75 1301.4 1519.2 Q1299.6 1515.64 1295.96 1515.64 M1295.96 1511.93 Q1301.77 1511.93 1304.83 1516.54 Q1307.91 1521.12 1307.91 1529.87 Q1307.91 1538.6 1304.83 1543.21 Q1301.77 1547.79 1295.96 1547.79 Q1290.15 1547.79 1287.07 1543.21 Q1284.02 1538.6 1284.02 1529.87 Q1284.02 1521.12 1287.07 1516.54 Q1290.15 1511.93 1295.96 1511.93 Z\" fill=\"#000000\" fill-rule=\"evenodd\" fill-opacity=\"1\" /><path clip-path=\"url(#clip480)\" d=\"M1650.26 1543.18 L1666.57 1543.18 L1666.57 1547.12 L1644.63 1547.12 L1644.63 1543.18 Q1647.29 1540.43 1651.88 1535.8 Q1656.48 1531.15 1657.66 1529.81 Q1659.91 1527.28 1660.79 1525.55 Q1661.69 1523.79 1661.69 1522.1 Q1661.69 1519.34 1659.75 1517.61 Q1657.82 1515.87 1654.72 1515.87 Q1652.52 1515.87 1650.07 1516.63 Q1647.64 1517.4 1644.86 1518.95 L1644.86 1514.23 Q1647.69 1513.09 1650.14 1512.51 Q1652.59 1511.93 1654.63 1511.93 Q1660 1511.93 1663.2 1514.62 Q1666.39 1517.31 1666.39 1521.8 Q1666.39 1523.93 1665.58 1525.85 Q1664.79 1527.74 1662.69 1530.34 Q1662.11 1531.01 1659.01 1534.23 Q1655.9 1537.42 1650.26 1543.18 Z\" fill=\"#000000\" fill-rule=\"evenodd\" fill-opacity=\"1\" /><path clip-path=\"url(#clip480)\" d=\"M1676.39 1541.24 L1681.27 1541.24 L1681.27 1547.12 L1676.39 1547.12 L1676.39 1541.24 Z\" fill=\"#000000\" fill-rule=\"evenodd\" fill-opacity=\"1\" /><path clip-path=\"url(#clip480)\" d=\"M1691.51 1512.56 L1709.86 1512.56 L1709.86 1516.5 L1695.79 1516.5 L1695.79 1524.97 Q1696.81 1524.62 1697.82 1524.46 Q1698.84 1524.27 1699.86 1524.27 Q1705.65 1524.27 1709.03 1527.44 Q1712.41 1530.62 1712.41 1536.03 Q1712.41 1541.61 1708.94 1544.71 Q1705.46 1547.79 1699.14 1547.79 Q1696.97 1547.79 1694.7 1547.42 Q1692.45 1547.05 1690.05 1546.31 L1690.05 1541.61 Q1692.13 1542.74 1694.35 1543.3 Q1696.57 1543.86 1699.05 1543.86 Q1703.06 1543.86 1705.39 1541.75 Q1707.73 1539.64 1707.73 1536.03 Q1707.73 1532.42 1705.39 1530.31 Q1703.06 1528.21 1699.05 1528.21 Q1697.18 1528.21 1695.3 1528.62 Q1693.45 1529.04 1691.51 1529.92 L1691.51 1512.56 Z\" fill=\"#000000\" fill-rule=\"evenodd\" fill-opacity=\"1\" /><path clip-path=\"url(#clip480)\" d=\"M2050.86 1512.56 L2069.21 1512.56 L2069.21 1516.5 L2055.14 1516.5 L2055.14 1524.97 Q2056.16 1524.62 2057.18 1524.46 Q2058.19 1524.27 2059.21 1524.27 Q2065 1524.27 2068.38 1527.44 Q2071.76 1530.62 2071.76 1536.03 Q2071.76 1541.61 2068.29 1544.71 Q2064.82 1547.79 2058.5 1547.79 Q2056.32 1547.79 2054.05 1547.42 Q2051.81 1547.05 2049.4 1546.31 L2049.4 1541.61 Q2051.48 1542.74 2053.7 1543.3 Q2055.93 1543.86 2058.4 1543.86 Q2062.41 1543.86 2064.75 1541.75 Q2067.08 1539.64 2067.08 1536.03 Q2067.08 1532.42 2064.75 1530.31 Q2062.41 1528.21 2058.4 1528.21 Q2056.53 1528.21 2054.65 1528.62 Q2052.8 1529.04 2050.86 1529.92 L2050.86 1512.56 Z\" fill=\"#000000\" fill-rule=\"evenodd\" fill-opacity=\"1\" /><path clip-path=\"url(#clip480)\" d=\"M2080.97 1541.24 L2085.86 1541.24 L2085.86 1547.12 L2080.97 1547.12 L2080.97 1541.24 Z\" fill=\"#000000\" fill-rule=\"evenodd\" fill-opacity=\"1\" /><path clip-path=\"url(#clip480)\" d=\"M2106.04 1515.64 Q2102.43 1515.64 2100.6 1519.2 Q2098.8 1522.75 2098.8 1529.87 Q2098.8 1536.98 2100.6 1540.55 Q2102.43 1544.09 2106.04 1544.09 Q2109.68 1544.09 2111.48 1540.55 Q2113.31 1536.98 2113.31 1529.87 Q2113.31 1522.75 2111.48 1519.2 Q2109.68 1515.64 2106.04 1515.64 M2106.04 1511.93 Q2111.85 1511.93 2114.91 1516.54 Q2117.99 1521.12 2117.99 1529.87 Q2117.99 1538.6 2114.91 1543.21 Q2111.85 1547.79 2106.04 1547.79 Q2100.23 1547.79 2097.15 1543.21 Q2094.1 1538.6 2094.1 1529.87 Q2094.1 1521.12 2097.15 1516.54 Q2100.23 1511.93 2106.04 1511.93 Z\" fill=\"#000000\" fill-rule=\"evenodd\" fill-opacity=\"1\" /><polyline clip-path=\"url(#clip482)\" style=\"stroke:#000000; stroke-linecap:butt; stroke-linejoin:round; stroke-width:2; stroke-opacity:0.1; fill:none\" points=\"\n  193.936,1445.72 2352.76,1445.72 \n  \"/>\n<polyline clip-path=\"url(#clip482)\" style=\"stroke:#000000; stroke-linecap:butt; stroke-linejoin:round; stroke-width:2; stroke-opacity:0.1; fill:none\" points=\"\n  193.936,1106.28 2352.76,1106.28 \n  \"/>\n<polyline clip-path=\"url(#clip482)\" style=\"stroke:#000000; stroke-linecap:butt; stroke-linejoin:round; stroke-width:2; stroke-opacity:0.1; fill:none\" points=\"\n  193.936,766.846 2352.76,766.846 \n  \"/>\n<polyline clip-path=\"url(#clip482)\" style=\"stroke:#000000; stroke-linecap:butt; stroke-linejoin:round; stroke-width:2; stroke-opacity:0.1; fill:none\" points=\"\n  193.936,427.411 2352.76,427.411 \n  \"/>\n<polyline clip-path=\"url(#clip482)\" style=\"stroke:#000000; stroke-linecap:butt; stroke-linejoin:round; stroke-width:2; stroke-opacity:0.1; fill:none\" points=\"\n  193.936,87.9763 2352.76,87.9763 \n  \"/>\n<polyline clip-path=\"url(#clip480)\" style=\"stroke:#000000; stroke-linecap:butt; stroke-linejoin:round; stroke-width:4; stroke-opacity:1; fill:none\" points=\"\n  193.936,1486.45 193.936,47.2441 \n  \"/>\n<polyline clip-path=\"url(#clip480)\" style=\"stroke:#000000; stroke-linecap:butt; stroke-linejoin:round; stroke-width:4; stroke-opacity:1; fill:none\" points=\"\n  193.936,1445.72 212.834,1445.72 \n  \"/>\n<polyline clip-path=\"url(#clip480)\" style=\"stroke:#000000; stroke-linecap:butt; stroke-linejoin:round; stroke-width:4; stroke-opacity:1; fill:none\" points=\"\n  193.936,1106.28 212.834,1106.28 \n  \"/>\n<polyline clip-path=\"url(#clip480)\" style=\"stroke:#000000; stroke-linecap:butt; stroke-linejoin:round; stroke-width:4; stroke-opacity:1; fill:none\" points=\"\n  193.936,766.846 212.834,766.846 \n  \"/>\n<polyline clip-path=\"url(#clip480)\" style=\"stroke:#000000; stroke-linecap:butt; stroke-linejoin:round; stroke-width:4; stroke-opacity:1; fill:none\" points=\"\n  193.936,427.411 212.834,427.411 \n  \"/>\n<polyline clip-path=\"url(#clip480)\" style=\"stroke:#000000; stroke-linecap:butt; stroke-linejoin:round; stroke-width:4; stroke-opacity:1; fill:none\" points=\"\n  193.936,87.9763 212.834,87.9763 \n  \"/>\n<path clip-path=\"url(#clip480)\" d=\"M50.9921 1446.17 L80.6679 1446.17 L80.6679 1450.1 L50.9921 1450.1 L50.9921 1446.17 Z\" fill=\"#000000\" fill-rule=\"evenodd\" fill-opacity=\"1\" /><path clip-path=\"url(#clip480)\" d=\"M91.5706 1459.06 L99.2095 1459.06 L99.2095 1432.7 L90.8993 1434.36 L90.8993 1430.1 L99.1632 1428.44 L103.839 1428.44 L103.839 1459.06 L111.478 1459.06 L111.478 1463 L91.5706 1463 L91.5706 1459.06 Z\" fill=\"#000000\" fill-rule=\"evenodd\" fill-opacity=\"1\" /><path clip-path=\"url(#clip480)\" d=\"M120.922 1457.12 L125.807 1457.12 L125.807 1463 L120.922 1463 L120.922 1457.12 Z\" fill=\"#000000\" fill-rule=\"evenodd\" fill-opacity=\"1\" /><path clip-path=\"url(#clip480)\" d=\"M145.992 1431.51 Q142.381 1431.51 140.552 1435.08 Q138.746 1438.62 138.746 1445.75 Q138.746 1452.86 140.552 1456.42 Q142.381 1459.96 145.992 1459.96 Q149.626 1459.96 151.431 1456.42 Q153.26 1452.86 153.26 1445.75 Q153.26 1438.62 151.431 1435.08 Q149.626 1431.51 145.992 1431.51 M145.992 1427.81 Q151.802 1427.81 154.857 1432.42 Q157.936 1437 157.936 1445.75 Q157.936 1454.48 154.857 1459.08 Q151.802 1463.67 145.992 1463.67 Q140.181 1463.67 137.103 1459.08 Q134.047 1454.48 134.047 1445.75 Q134.047 1437 137.103 1432.42 Q140.181 1427.81 145.992 1427.81 Z\" fill=\"#000000\" fill-rule=\"evenodd\" fill-opacity=\"1\" /><path clip-path=\"url(#clip480)\" d=\"M51.9875 1106.73 L81.6633 1106.73 L81.6633 1110.67 L51.9875 1110.67 L51.9875 1106.73 Z\" fill=\"#000000\" fill-rule=\"evenodd\" fill-opacity=\"1\" /><path clip-path=\"url(#clip480)\" d=\"M101.756 1092.08 Q98.1447 1092.08 96.316 1095.64 Q94.5104 1099.19 94.5104 1106.32 Q94.5104 1113.42 96.316 1116.99 Q98.1447 1120.53 101.756 1120.53 Q105.39 1120.53 107.196 1116.99 Q109.024 1113.42 109.024 1106.32 Q109.024 1099.19 107.196 1095.64 Q105.39 1092.08 101.756 1092.08 M101.756 1088.38 Q107.566 1088.38 110.621 1092.98 Q113.7 1097.57 113.7 1106.32 Q113.7 1115.04 110.621 1119.65 Q107.566 1124.23 101.756 1124.23 Q95.9456 1124.23 92.8669 1119.65 Q89.8114 1115.04 89.8114 1106.32 Q89.8114 1097.57 92.8669 1092.98 Q95.9456 1088.38 101.756 1088.38 Z\" fill=\"#000000\" fill-rule=\"evenodd\" fill-opacity=\"1\" /><path clip-path=\"url(#clip480)\" d=\"M121.918 1117.68 L126.802 1117.68 L126.802 1123.56 L121.918 1123.56 L121.918 1117.68 Z\" fill=\"#000000\" fill-rule=\"evenodd\" fill-opacity=\"1\" /><path clip-path=\"url(#clip480)\" d=\"M137.033 1089 L155.39 1089 L155.39 1092.94 L141.316 1092.94 L141.316 1101.41 Q142.334 1101.06 143.353 1100.9 Q144.371 1100.71 145.39 1100.71 Q151.177 1100.71 154.556 1103.89 Q157.936 1107.06 157.936 1112.47 Q157.936 1118.05 154.464 1121.15 Q150.992 1124.23 144.672 1124.23 Q142.496 1124.23 140.228 1123.86 Q137.982 1123.49 135.575 1122.75 L135.575 1118.05 Q137.658 1119.19 139.881 1119.74 Q142.103 1120.3 144.58 1120.3 Q148.584 1120.3 150.922 1118.19 Q153.26 1116.08 153.26 1112.47 Q153.26 1108.86 150.922 1106.76 Q148.584 1104.65 144.58 1104.65 Q142.705 1104.65 140.83 1105.07 Q138.978 1105.48 137.033 1106.36 L137.033 1089 Z\" fill=\"#000000\" fill-rule=\"evenodd\" fill-opacity=\"1\" /><path clip-path=\"url(#clip480)\" d=\"M100.76 752.645 Q97.1493 752.645 95.3206 756.21 Q93.515 759.751 93.515 766.881 Q93.515 773.987 95.3206 777.552 Q97.1493 781.094 100.76 781.094 Q104.395 781.094 106.2 777.552 Q108.029 773.987 108.029 766.881 Q108.029 759.751 106.2 756.21 Q104.395 752.645 100.76 752.645 M100.76 748.941 Q106.571 748.941 109.626 753.548 Q112.705 758.131 112.705 766.881 Q112.705 775.608 109.626 780.214 Q106.571 784.797 100.76 784.797 Q94.9502 784.797 91.8715 780.214 Q88.816 775.608 88.816 766.881 Q88.816 758.131 91.8715 753.548 Q94.9502 748.941 100.76 748.941 Z\" fill=\"#000000\" fill-rule=\"evenodd\" fill-opacity=\"1\" /><path clip-path=\"url(#clip480)\" d=\"M120.922 778.246 L125.807 778.246 L125.807 784.126 L120.922 784.126 L120.922 778.246 Z\" fill=\"#000000\" fill-rule=\"evenodd\" fill-opacity=\"1\" /><path clip-path=\"url(#clip480)\" d=\"M145.992 752.645 Q142.381 752.645 140.552 756.21 Q138.746 759.751 138.746 766.881 Q138.746 773.987 140.552 777.552 Q142.381 781.094 145.992 781.094 Q149.626 781.094 151.431 777.552 Q153.26 773.987 153.26 766.881 Q153.26 759.751 151.431 756.21 Q149.626 752.645 145.992 752.645 M145.992 748.941 Q151.802 748.941 154.857 753.548 Q157.936 758.131 157.936 766.881 Q157.936 775.608 154.857 780.214 Q151.802 784.797 145.992 784.797 Q140.181 784.797 137.103 780.214 Q134.047 775.608 134.047 766.881 Q134.047 758.131 137.103 753.548 Q140.181 748.941 145.992 748.941 Z\" fill=\"#000000\" fill-rule=\"evenodd\" fill-opacity=\"1\" /><path clip-path=\"url(#clip480)\" d=\"M101.756 413.21 Q98.1447 413.21 96.316 416.775 Q94.5104 420.316 94.5104 427.446 Q94.5104 434.552 96.316 438.117 Q98.1447 441.659 101.756 441.659 Q105.39 441.659 107.196 438.117 Q109.024 434.552 109.024 427.446 Q109.024 420.316 107.196 416.775 Q105.39 413.21 101.756 413.21 M101.756 409.506 Q107.566 409.506 110.621 414.113 Q113.7 418.696 113.7 427.446 Q113.7 436.173 110.621 440.779 Q107.566 445.362 101.756 445.362 Q95.9456 445.362 92.8669 440.779 Q89.8114 436.173 89.8114 427.446 Q89.8114 418.696 92.8669 414.113 Q95.9456 409.506 101.756 409.506 Z\" fill=\"#000000\" fill-rule=\"evenodd\" fill-opacity=\"1\" /><path clip-path=\"url(#clip480)\" d=\"M121.918 438.812 L126.802 438.812 L126.802 444.691 L121.918 444.691 L121.918 438.812 Z\" fill=\"#000000\" fill-rule=\"evenodd\" fill-opacity=\"1\" /><path clip-path=\"url(#clip480)\" d=\"M137.033 410.131 L155.39 410.131 L155.39 414.066 L141.316 414.066 L141.316 422.539 Q142.334 422.191 143.353 422.029 Q144.371 421.844 145.39 421.844 Q151.177 421.844 154.556 425.015 Q157.936 428.187 157.936 433.603 Q157.936 439.182 154.464 442.284 Q150.992 445.362 144.672 445.362 Q142.496 445.362 140.228 444.992 Q137.982 444.622 135.575 443.881 L135.575 439.182 Q137.658 440.316 139.881 440.872 Q142.103 441.427 144.58 441.427 Q148.584 441.427 150.922 439.321 Q153.26 437.214 153.26 433.603 Q153.26 429.992 150.922 427.886 Q148.584 425.779 144.58 425.779 Q142.705 425.779 140.83 426.196 Q138.978 426.613 137.033 427.492 L137.033 410.131 Z\" fill=\"#000000\" fill-rule=\"evenodd\" fill-opacity=\"1\" /><path clip-path=\"url(#clip480)\" d=\"M91.5706 101.321 L99.2095 101.321 L99.2095 74.9555 L90.8993 76.6222 L90.8993 72.3629 L99.1632 70.6963 L103.839 70.6963 L103.839 101.321 L111.478 101.321 L111.478 105.256 L91.5706 105.256 L91.5706 101.321 Z\" fill=\"#000000\" fill-rule=\"evenodd\" fill-opacity=\"1\" /><path clip-path=\"url(#clip480)\" d=\"M120.922 99.3767 L125.807 99.3767 L125.807 105.256 L120.922 105.256 L120.922 99.3767 Z\" fill=\"#000000\" fill-rule=\"evenodd\" fill-opacity=\"1\" /><path clip-path=\"url(#clip480)\" d=\"M145.992 73.775 Q142.381 73.775 140.552 77.3398 Q138.746 80.8814 138.746 88.011 Q138.746 95.1174 140.552 98.6822 Q142.381 102.224 145.992 102.224 Q149.626 102.224 151.431 98.6822 Q153.26 95.1174 153.26 88.011 Q153.26 80.8814 151.431 77.3398 Q149.626 73.775 145.992 73.775 M145.992 70.0713 Q151.802 70.0713 154.857 74.6777 Q157.936 79.261 157.936 88.011 Q157.936 96.7378 154.857 101.344 Q151.802 105.928 145.992 105.928 Q140.181 105.928 137.103 101.344 Q134.047 96.7378 134.047 88.011 Q134.047 79.261 137.103 74.6777 Q140.181 70.0713 145.992 70.0713 Z\" fill=\"#000000\" fill-rule=\"evenodd\" fill-opacity=\"1\" /><polyline clip-path=\"url(#clip482)\" style=\"stroke:#009af9; stroke-linecap:butt; stroke-linejoin:round; stroke-width:4; stroke-opacity:1; fill:none\" points=\"\n  255.035,87.9763 260.007,88.2958 264.979,89.2539 269.952,90.8498 274.924,93.0819 297.912,111.596 320.9,143.271 343.888,187.471 366.877,243.308 389.865,309.66 \n  412.853,385.195 435.841,468.396 458.829,557.591 486.459,670.191 514.089,785.594 541.719,900.453 569.348,1011.44 592.709,1099.87 616.07,1181.39 639.431,1254.31 \n  662.791,1317.12 688.167,1372.39 713.544,1412.84 738.92,1437.48 764.296,1445.72 787.691,1438.59 811.085,1417.49 834.48,1382.86 857.875,1335.42 882.956,1271.45 \n  908.038,1195.42 933.119,1109.14 958.201,1014.68 1016.32,777.101 1074.44,538.214 1100.26,439.687 1126.09,349.449 1151.91,269.787 1177.74,202.718 1200.38,155.618 \n  1223.03,120.433 1245.67,97.8474 1268.32,88.3026 1293.01,92.9672 1317.7,113.241 1342.39,148.655 1367.08,198.388 1391.92,261.698 1416.75,336.849 1441.59,422.079 \n  1466.43,515.39 1521.35,739.309 1576.27,966.361 1602.4,1067.93 1628.52,1161.69 1654.65,1245.21 1680.78,1316.33 1694.36,1347.78 1707.95,1375.14 1721.53,1398.24 \n  1735.11,1416.9 1748.7,1431 1762.28,1440.44 1775.86,1445.15 1789.45,1445.09 1812.31,1434.26 1835.18,1410.16 1858.05,1373.28 1880.92,1324.34 1908.84,1249.68 \n  1936.76,1160.73 1964.68,1060.12 1992.6,950.826 2045.09,733.296 2097.58,519.255 2118.61,439.567 2139.63,365.379 2160.65,297.937 2181.68,238.375 2202.7,187.692 \n  2223.73,146.742 2244.75,116.212 2265.77,96.6157 2272.24,92.8405 2278.72,90.1396 2285.19,88.5173 2291.66,87.9763 \n  \"/>\n<path clip-path=\"url(#clip480)\" d=\"\nM1902.8 198.898 L2280.8 198.898 L2280.8 95.2176 L1902.8 95.2176  Z\n  \" fill=\"#ffffff\" fill-rule=\"evenodd\" fill-opacity=\"1\"/>\n<polyline clip-path=\"url(#clip480)\" style=\"stroke:#000000; stroke-linecap:butt; stroke-linejoin:round; stroke-width:4; stroke-opacity:1; fill:none\" points=\"\n  1902.8,198.898 2280.8,198.898 2280.8,95.2176 1902.8,95.2176 1902.8,198.898 \n  \"/>\n<polyline clip-path=\"url(#clip480)\" style=\"stroke:#009af9; stroke-linecap:butt; stroke-linejoin:round; stroke-width:4; stroke-opacity:1; fill:none\" points=\"\n  1926.79,147.058 2070.71,147.058 \n  \"/>\n<path clip-path=\"url(#clip480)\" d=\"M2115.21 139.407 L2115.21 143.389 Q2113.4 142.393 2111.57 141.907 Q2109.77 141.398 2107.91 141.398 Q2103.77 141.398 2101.48 144.037 Q2099.19 146.652 2099.19 151.398 Q2099.19 156.143 2101.48 158.782 Q2103.77 161.398 2107.91 161.398 Q2109.77 161.398 2111.57 160.912 Q2113.4 160.402 2115.21 159.407 L2115.21 163.342 Q2113.42 164.176 2111.5 164.592 Q2109.6 165.009 2107.45 165.009 Q2101.6 165.009 2098.15 161.328 Q2094.7 157.648 2094.7 151.398 Q2094.7 145.055 2098.17 141.421 Q2101.66 137.787 2107.73 137.787 Q2109.7 137.787 2111.57 138.203 Q2113.45 138.597 2115.21 139.407 Z\" fill=\"#000000\" fill-rule=\"evenodd\" fill-opacity=\"1\" /><path clip-path=\"url(#clip480)\" d=\"M2132.66 141.398 Q2129.23 141.398 2127.24 144.083 Q2125.25 146.745 2125.25 151.398 Q2125.25 156.051 2127.22 158.736 Q2129.21 161.398 2132.66 161.398 Q2136.06 161.398 2138.05 158.713 Q2140.04 156.027 2140.04 151.398 Q2140.04 146.791 2138.05 144.106 Q2136.06 141.398 2132.66 141.398 M2132.66 137.787 Q2138.22 137.787 2141.39 141.398 Q2144.56 145.009 2144.56 151.398 Q2144.56 157.764 2141.39 161.398 Q2138.22 165.009 2132.66 165.009 Q2127.08 165.009 2123.91 161.398 Q2120.76 157.764 2120.76 151.398 Q2120.76 145.009 2123.91 141.398 Q2127.08 137.787 2132.66 137.787 Z\" fill=\"#000000\" fill-rule=\"evenodd\" fill-opacity=\"1\" /><path clip-path=\"url(#clip480)\" d=\"M2168.15 139.176 L2168.15 143.203 Q2166.34 142.277 2164.4 141.815 Q2162.45 141.352 2160.37 141.352 Q2157.2 141.352 2155.6 142.324 Q2154.03 143.296 2154.03 145.24 Q2154.03 146.722 2155.16 147.578 Q2156.29 148.412 2159.72 149.176 L2161.18 149.5 Q2165.72 150.472 2167.61 152.254 Q2169.53 154.014 2169.53 157.185 Q2169.53 160.796 2166.66 162.902 Q2163.82 165.009 2158.82 165.009 Q2156.73 165.009 2154.47 164.592 Q2152.22 164.199 2149.72 163.388 L2149.72 158.99 Q2152.08 160.217 2154.37 160.842 Q2156.66 161.444 2158.91 161.444 Q2161.92 161.444 2163.54 160.426 Q2165.16 159.384 2165.16 157.509 Q2165.16 155.773 2163.98 154.847 Q2162.82 153.921 2158.86 153.064 L2157.38 152.717 Q2153.42 151.884 2151.66 150.171 Q2149.91 148.435 2149.91 145.426 Q2149.91 141.768 2152.5 139.778 Q2155.09 137.787 2159.86 137.787 Q2162.22 137.787 2164.3 138.134 Q2166.39 138.481 2168.15 139.176 Z\" fill=\"#000000\" fill-rule=\"evenodd\" fill-opacity=\"1\" /><path clip-path=\"url(#clip480)\" d=\"M2186.55 128.366 Q2183.45 133.69 2181.94 138.898 Q2180.44 144.106 2180.44 149.453 Q2180.44 154.801 2181.94 160.055 Q2183.47 165.287 2186.55 170.588 L2182.84 170.588 Q2179.37 165.148 2177.64 159.893 Q2175.92 154.639 2175.92 149.453 Q2175.92 144.291 2177.64 139.06 Q2179.35 133.828 2182.84 128.366 L2186.55 128.366 Z\" fill=\"#000000\" fill-rule=\"evenodd\" fill-opacity=\"1\" /><path clip-path=\"url(#clip480)\" d=\"M2216.36 138.412 L2206.99 151.027 L2216.85 164.338 L2211.83 164.338 L2204.28 154.152 L2196.73 164.338 L2191.71 164.338 L2201.78 150.773 L2192.57 138.412 L2197.59 138.412 L2204.47 147.648 L2211.34 138.412 L2216.36 138.412 Z\" fill=\"#000000\" fill-rule=\"evenodd\" fill-opacity=\"1\" /><path clip-path=\"url(#clip480)\" d=\"M2222.2 128.366 L2225.9 128.366 Q2229.37 133.828 2231.09 139.06 Q2232.82 144.291 2232.82 149.453 Q2232.82 154.639 2231.09 159.893 Q2229.37 165.148 2225.9 170.588 L2222.2 170.588 Q2225.28 165.287 2226.78 160.055 Q2228.31 154.801 2228.31 149.453 Q2228.31 144.106 2226.78 138.898 Q2225.28 133.69 2222.2 128.366 Z\" fill=\"#000000\" fill-rule=\"evenodd\" fill-opacity=\"1\" /></svg>\n",
      "text/html": [
       "<?xml version=\"1.0\" encoding=\"utf-8\"?>\n",
       "<svg xmlns=\"http://www.w3.org/2000/svg\" xmlns:xlink=\"http://www.w3.org/1999/xlink\" width=\"600\" height=\"400\" viewBox=\"0 0 2400 1600\">\n",
       "<defs>\n",
       "  <clipPath id=\"clip530\">\n",
       "    <rect x=\"0\" y=\"0\" width=\"2400\" height=\"1600\"/>\n",
       "  </clipPath>\n",
       "</defs>\n",
       "<path clip-path=\"url(#clip530)\" d=\"\n",
       "M0 1600 L2400 1600 L2400 0 L0 0  Z\n",
       "  \" fill=\"#ffffff\" fill-rule=\"evenodd\" fill-opacity=\"1\"/>\n",
       "<defs>\n",
       "  <clipPath id=\"clip531\">\n",
       "    <rect x=\"480\" y=\"0\" width=\"1681\" height=\"1600\"/>\n",
       "  </clipPath>\n",
       "</defs>\n",
       "<path clip-path=\"url(#clip530)\" d=\"\n",
       "M193.936 1486.45 L2352.76 1486.45 L2352.76 47.2441 L193.936 47.2441  Z\n",
       "  \" fill=\"#ffffff\" fill-rule=\"evenodd\" fill-opacity=\"1\"/>\n",
       "<defs>\n",
       "  <clipPath id=\"clip532\">\n",
       "    <rect x=\"193\" y=\"47\" width=\"2160\" height=\"1440\"/>\n",
       "  </clipPath>\n",
       "</defs>\n",
       "<polyline clip-path=\"url(#clip532)\" style=\"stroke:#000000; stroke-linecap:butt; stroke-linejoin:round; stroke-width:2; stroke-opacity:0.1; fill:none\" points=\"\n",
       "  463,1486.45 463,47.2441 \n",
       "  \"/>\n",
       "<polyline clip-path=\"url(#clip532)\" style=\"stroke:#000000; stroke-linecap:butt; stroke-linejoin:round; stroke-width:2; stroke-opacity:0.1; fill:none\" points=\"\n",
       "  868.173,1486.45 868.173,47.2441 \n",
       "  \"/>\n",
       "<polyline clip-path=\"url(#clip532)\" style=\"stroke:#000000; stroke-linecap:butt; stroke-linejoin:round; stroke-width:2; stroke-opacity:0.1; fill:none\" points=\"\n",
       "  1273.35,1486.45 1273.35,47.2441 \n",
       "  \"/>\n",
       "<polyline clip-path=\"url(#clip532)\" style=\"stroke:#000000; stroke-linecap:butt; stroke-linejoin:round; stroke-width:2; stroke-opacity:0.1; fill:none\" points=\"\n",
       "  1678.52,1486.45 1678.52,47.2441 \n",
       "  \"/>\n",
       "<polyline clip-path=\"url(#clip532)\" style=\"stroke:#000000; stroke-linecap:butt; stroke-linejoin:round; stroke-width:2; stroke-opacity:0.1; fill:none\" points=\"\n",
       "  2083.69,1486.45 2083.69,47.2441 \n",
       "  \"/>\n",
       "<polyline clip-path=\"url(#clip530)\" style=\"stroke:#000000; stroke-linecap:butt; stroke-linejoin:round; stroke-width:4; stroke-opacity:1; fill:none\" points=\"\n",
       "  193.936,1486.45 2352.76,1486.45 \n",
       "  \"/>\n",
       "<polyline clip-path=\"url(#clip530)\" style=\"stroke:#000000; stroke-linecap:butt; stroke-linejoin:round; stroke-width:4; stroke-opacity:1; fill:none\" points=\"\n",
       "  463,1486.45 463,1467.55 \n",
       "  \"/>\n",
       "<polyline clip-path=\"url(#clip530)\" style=\"stroke:#000000; stroke-linecap:butt; stroke-linejoin:round; stroke-width:4; stroke-opacity:1; fill:none\" points=\"\n",
       "  868.173,1486.45 868.173,1467.55 \n",
       "  \"/>\n",
       "<polyline clip-path=\"url(#clip530)\" style=\"stroke:#000000; stroke-linecap:butt; stroke-linejoin:round; stroke-width:4; stroke-opacity:1; fill:none\" points=\"\n",
       "  1273.35,1486.45 1273.35,1467.55 \n",
       "  \"/>\n",
       "<polyline clip-path=\"url(#clip530)\" style=\"stroke:#000000; stroke-linecap:butt; stroke-linejoin:round; stroke-width:4; stroke-opacity:1; fill:none\" points=\"\n",
       "  1678.52,1486.45 1678.52,1467.55 \n",
       "  \"/>\n",
       "<polyline clip-path=\"url(#clip530)\" style=\"stroke:#000000; stroke-linecap:butt; stroke-linejoin:round; stroke-width:4; stroke-opacity:1; fill:none\" points=\"\n",
       "  2083.69,1486.45 2083.69,1467.55 \n",
       "  \"/>\n",
       "<path clip-path=\"url(#clip530)\" d=\"M409.528 1530.29 L439.203 1530.29 L439.203 1534.23 L409.528 1534.23 L409.528 1530.29 Z\" fill=\"#000000\" fill-rule=\"evenodd\" fill-opacity=\"1\" /><path clip-path=\"url(#clip530)\" d=\"M449.342 1512.56 L467.699 1512.56 L467.699 1516.5 L453.625 1516.5 L453.625 1524.97 Q454.643 1524.62 455.662 1524.46 Q456.68 1524.27 457.699 1524.27 Q463.486 1524.27 466.865 1527.44 Q470.245 1530.62 470.245 1536.03 Q470.245 1541.61 466.773 1544.71 Q463.301 1547.79 456.981 1547.79 Q454.805 1547.79 452.537 1547.42 Q450.291 1547.05 447.884 1546.31 L447.884 1541.61 Q449.967 1542.74 452.189 1543.3 Q454.412 1543.86 456.889 1543.86 Q460.893 1543.86 463.231 1541.75 Q465.569 1539.64 465.569 1536.03 Q465.569 1532.42 463.231 1530.31 Q460.893 1528.21 456.889 1528.21 Q455.014 1528.21 453.139 1528.62 Q451.287 1529.04 449.342 1529.92 L449.342 1512.56 Z\" fill=\"#000000\" fill-rule=\"evenodd\" fill-opacity=\"1\" /><path clip-path=\"url(#clip530)\" d=\"M479.458 1541.24 L484.342 1541.24 L484.342 1547.12 L479.458 1547.12 L479.458 1541.24 Z\" fill=\"#000000\" fill-rule=\"evenodd\" fill-opacity=\"1\" /><path clip-path=\"url(#clip530)\" d=\"M504.527 1515.64 Q500.916 1515.64 499.087 1519.2 Q497.282 1522.75 497.282 1529.87 Q497.282 1536.98 499.087 1540.55 Q500.916 1544.09 504.527 1544.09 Q508.161 1544.09 509.967 1540.55 Q511.796 1536.98 511.796 1529.87 Q511.796 1522.75 509.967 1519.2 Q508.161 1515.64 504.527 1515.64 M504.527 1511.93 Q510.337 1511.93 513.393 1516.54 Q516.472 1521.12 516.472 1529.87 Q516.472 1538.6 513.393 1543.21 Q510.337 1547.79 504.527 1547.79 Q498.717 1547.79 495.638 1543.21 Q492.583 1538.6 492.583 1529.87 Q492.583 1521.12 495.638 1516.54 Q498.717 1511.93 504.527 1511.93 Z\" fill=\"#000000\" fill-rule=\"evenodd\" fill-opacity=\"1\" /><path clip-path=\"url(#clip530)\" d=\"M815.199 1530.29 L844.874 1530.29 L844.874 1534.23 L815.199 1534.23 L815.199 1530.29 Z\" fill=\"#000000\" fill-rule=\"evenodd\" fill-opacity=\"1\" /><path clip-path=\"url(#clip530)\" d=\"M858.995 1543.18 L875.314 1543.18 L875.314 1547.12 L853.37 1547.12 L853.37 1543.18 Q856.032 1540.43 860.615 1535.8 Q865.221 1531.15 866.402 1529.81 Q868.647 1527.28 869.527 1525.55 Q870.43 1523.79 870.43 1522.1 Q870.43 1519.34 868.485 1517.61 Q866.564 1515.87 863.462 1515.87 Q861.263 1515.87 858.809 1516.63 Q856.379 1517.4 853.601 1518.95 L853.601 1514.23 Q856.425 1513.09 858.879 1512.51 Q861.333 1511.93 863.37 1511.93 Q868.74 1511.93 871.934 1514.62 Q875.129 1517.31 875.129 1521.8 Q875.129 1523.93 874.319 1525.85 Q873.532 1527.74 871.425 1530.34 Q870.846 1531.01 867.745 1534.23 Q864.643 1537.42 858.995 1543.18 Z\" fill=\"#000000\" fill-rule=\"evenodd\" fill-opacity=\"1\" /><path clip-path=\"url(#clip530)\" d=\"M885.129 1541.24 L890.013 1541.24 L890.013 1547.12 L885.129 1547.12 L885.129 1541.24 Z\" fill=\"#000000\" fill-rule=\"evenodd\" fill-opacity=\"1\" /><path clip-path=\"url(#clip530)\" d=\"M900.244 1512.56 L918.601 1512.56 L918.601 1516.5 L904.527 1516.5 L904.527 1524.97 Q905.545 1524.62 906.564 1524.46 Q907.582 1524.27 908.601 1524.27 Q914.388 1524.27 917.767 1527.44 Q921.147 1530.62 921.147 1536.03 Q921.147 1541.61 917.675 1544.71 Q914.203 1547.79 907.883 1547.79 Q905.707 1547.79 903.439 1547.42 Q901.193 1547.05 898.786 1546.31 L898.786 1541.61 Q900.869 1542.74 903.092 1543.3 Q905.314 1543.86 907.791 1543.86 Q911.795 1543.86 914.133 1541.75 Q916.471 1539.64 916.471 1536.03 Q916.471 1532.42 914.133 1530.31 Q911.795 1528.21 907.791 1528.21 Q905.916 1528.21 904.041 1528.62 Q902.189 1529.04 900.244 1529.92 L900.244 1512.56 Z\" fill=\"#000000\" fill-rule=\"evenodd\" fill-opacity=\"1\" /><path clip-path=\"url(#clip530)\" d=\"M1250.73 1515.64 Q1247.12 1515.64 1245.29 1519.2 Q1243.49 1522.75 1243.49 1529.87 Q1243.49 1536.98 1245.29 1540.55 Q1247.12 1544.09 1250.73 1544.09 Q1254.36 1544.09 1256.17 1540.55 Q1258 1536.98 1258 1529.87 Q1258 1522.75 1256.17 1519.2 Q1254.36 1515.64 1250.73 1515.64 M1250.73 1511.93 Q1256.54 1511.93 1259.6 1516.54 Q1262.67 1521.12 1262.67 1529.87 Q1262.67 1538.6 1259.6 1543.21 Q1256.54 1547.79 1250.73 1547.79 Q1244.92 1547.79 1241.84 1543.21 Q1238.79 1538.6 1238.79 1529.87 Q1238.79 1521.12 1241.84 1516.54 Q1244.92 1511.93 1250.73 1511.93 Z\" fill=\"#000000\" fill-rule=\"evenodd\" fill-opacity=\"1\" /><path clip-path=\"url(#clip530)\" d=\"M1270.89 1541.24 L1275.78 1541.24 L1275.78 1547.12 L1270.89 1547.12 L1270.89 1541.24 Z\" fill=\"#000000\" fill-rule=\"evenodd\" fill-opacity=\"1\" /><path clip-path=\"url(#clip530)\" d=\"M1295.96 1515.64 Q1292.35 1515.64 1290.52 1519.2 Q1288.72 1522.75 1288.72 1529.87 Q1288.72 1536.98 1290.52 1540.55 Q1292.35 1544.09 1295.96 1544.09 Q1299.6 1544.09 1301.4 1540.55 Q1303.23 1536.98 1303.23 1529.87 Q1303.23 1522.75 1301.4 1519.2 Q1299.6 1515.64 1295.96 1515.64 M1295.96 1511.93 Q1301.77 1511.93 1304.83 1516.54 Q1307.91 1521.12 1307.91 1529.87 Q1307.91 1538.6 1304.83 1543.21 Q1301.77 1547.79 1295.96 1547.79 Q1290.15 1547.79 1287.07 1543.21 Q1284.02 1538.6 1284.02 1529.87 Q1284.02 1521.12 1287.07 1516.54 Q1290.15 1511.93 1295.96 1511.93 Z\" fill=\"#000000\" fill-rule=\"evenodd\" fill-opacity=\"1\" /><path clip-path=\"url(#clip530)\" d=\"M1650.26 1543.18 L1666.57 1543.18 L1666.57 1547.12 L1644.63 1547.12 L1644.63 1543.18 Q1647.29 1540.43 1651.88 1535.8 Q1656.48 1531.15 1657.66 1529.81 Q1659.91 1527.28 1660.79 1525.55 Q1661.69 1523.79 1661.69 1522.1 Q1661.69 1519.34 1659.75 1517.61 Q1657.82 1515.87 1654.72 1515.87 Q1652.52 1515.87 1650.07 1516.63 Q1647.64 1517.4 1644.86 1518.95 L1644.86 1514.23 Q1647.69 1513.09 1650.14 1512.51 Q1652.59 1511.93 1654.63 1511.93 Q1660 1511.93 1663.2 1514.62 Q1666.39 1517.31 1666.39 1521.8 Q1666.39 1523.93 1665.58 1525.85 Q1664.79 1527.74 1662.69 1530.34 Q1662.11 1531.01 1659.01 1534.23 Q1655.9 1537.42 1650.26 1543.18 Z\" fill=\"#000000\" fill-rule=\"evenodd\" fill-opacity=\"1\" /><path clip-path=\"url(#clip530)\" d=\"M1676.39 1541.24 L1681.27 1541.24 L1681.27 1547.12 L1676.39 1547.12 L1676.39 1541.24 Z\" fill=\"#000000\" fill-rule=\"evenodd\" fill-opacity=\"1\" /><path clip-path=\"url(#clip530)\" d=\"M1691.51 1512.56 L1709.86 1512.56 L1709.86 1516.5 L1695.79 1516.5 L1695.79 1524.97 Q1696.81 1524.62 1697.82 1524.46 Q1698.84 1524.27 1699.86 1524.27 Q1705.65 1524.27 1709.03 1527.44 Q1712.41 1530.62 1712.41 1536.03 Q1712.41 1541.61 1708.94 1544.71 Q1705.46 1547.79 1699.14 1547.79 Q1696.97 1547.79 1694.7 1547.42 Q1692.45 1547.05 1690.05 1546.31 L1690.05 1541.61 Q1692.13 1542.74 1694.35 1543.3 Q1696.57 1543.86 1699.05 1543.86 Q1703.06 1543.86 1705.39 1541.75 Q1707.73 1539.64 1707.73 1536.03 Q1707.73 1532.42 1705.39 1530.31 Q1703.06 1528.21 1699.05 1528.21 Q1697.18 1528.21 1695.3 1528.62 Q1693.45 1529.04 1691.51 1529.92 L1691.51 1512.56 Z\" fill=\"#000000\" fill-rule=\"evenodd\" fill-opacity=\"1\" /><path clip-path=\"url(#clip530)\" d=\"M2050.86 1512.56 L2069.21 1512.56 L2069.21 1516.5 L2055.14 1516.5 L2055.14 1524.97 Q2056.16 1524.62 2057.18 1524.46 Q2058.19 1524.27 2059.21 1524.27 Q2065 1524.27 2068.38 1527.44 Q2071.76 1530.62 2071.76 1536.03 Q2071.76 1541.61 2068.29 1544.71 Q2064.82 1547.79 2058.5 1547.79 Q2056.32 1547.79 2054.05 1547.42 Q2051.81 1547.05 2049.4 1546.31 L2049.4 1541.61 Q2051.48 1542.74 2053.7 1543.3 Q2055.93 1543.86 2058.4 1543.86 Q2062.41 1543.86 2064.75 1541.75 Q2067.08 1539.64 2067.08 1536.03 Q2067.08 1532.42 2064.75 1530.31 Q2062.41 1528.21 2058.4 1528.21 Q2056.53 1528.21 2054.65 1528.62 Q2052.8 1529.04 2050.86 1529.92 L2050.86 1512.56 Z\" fill=\"#000000\" fill-rule=\"evenodd\" fill-opacity=\"1\" /><path clip-path=\"url(#clip530)\" d=\"M2080.97 1541.24 L2085.86 1541.24 L2085.86 1547.12 L2080.97 1547.12 L2080.97 1541.24 Z\" fill=\"#000000\" fill-rule=\"evenodd\" fill-opacity=\"1\" /><path clip-path=\"url(#clip530)\" d=\"M2106.04 1515.64 Q2102.43 1515.64 2100.6 1519.2 Q2098.8 1522.75 2098.8 1529.87 Q2098.8 1536.98 2100.6 1540.55 Q2102.43 1544.09 2106.04 1544.09 Q2109.68 1544.09 2111.48 1540.55 Q2113.31 1536.98 2113.31 1529.87 Q2113.31 1522.75 2111.48 1519.2 Q2109.68 1515.64 2106.04 1515.64 M2106.04 1511.93 Q2111.85 1511.93 2114.91 1516.54 Q2117.99 1521.12 2117.99 1529.87 Q2117.99 1538.6 2114.91 1543.21 Q2111.85 1547.79 2106.04 1547.79 Q2100.23 1547.79 2097.15 1543.21 Q2094.1 1538.6 2094.1 1529.87 Q2094.1 1521.12 2097.15 1516.54 Q2100.23 1511.93 2106.04 1511.93 Z\" fill=\"#000000\" fill-rule=\"evenodd\" fill-opacity=\"1\" /><polyline clip-path=\"url(#clip532)\" style=\"stroke:#000000; stroke-linecap:butt; stroke-linejoin:round; stroke-width:2; stroke-opacity:0.1; fill:none\" points=\"\n",
       "  193.936,1445.72 2352.76,1445.72 \n",
       "  \"/>\n",
       "<polyline clip-path=\"url(#clip532)\" style=\"stroke:#000000; stroke-linecap:butt; stroke-linejoin:round; stroke-width:2; stroke-opacity:0.1; fill:none\" points=\"\n",
       "  193.936,1106.28 2352.76,1106.28 \n",
       "  \"/>\n",
       "<polyline clip-path=\"url(#clip532)\" style=\"stroke:#000000; stroke-linecap:butt; stroke-linejoin:round; stroke-width:2; stroke-opacity:0.1; fill:none\" points=\"\n",
       "  193.936,766.846 2352.76,766.846 \n",
       "  \"/>\n",
       "<polyline clip-path=\"url(#clip532)\" style=\"stroke:#000000; stroke-linecap:butt; stroke-linejoin:round; stroke-width:2; stroke-opacity:0.1; fill:none\" points=\"\n",
       "  193.936,427.411 2352.76,427.411 \n",
       "  \"/>\n",
       "<polyline clip-path=\"url(#clip532)\" style=\"stroke:#000000; stroke-linecap:butt; stroke-linejoin:round; stroke-width:2; stroke-opacity:0.1; fill:none\" points=\"\n",
       "  193.936,87.9763 2352.76,87.9763 \n",
       "  \"/>\n",
       "<polyline clip-path=\"url(#clip530)\" style=\"stroke:#000000; stroke-linecap:butt; stroke-linejoin:round; stroke-width:4; stroke-opacity:1; fill:none\" points=\"\n",
       "  193.936,1486.45 193.936,47.2441 \n",
       "  \"/>\n",
       "<polyline clip-path=\"url(#clip530)\" style=\"stroke:#000000; stroke-linecap:butt; stroke-linejoin:round; stroke-width:4; stroke-opacity:1; fill:none\" points=\"\n",
       "  193.936,1445.72 212.834,1445.72 \n",
       "  \"/>\n",
       "<polyline clip-path=\"url(#clip530)\" style=\"stroke:#000000; stroke-linecap:butt; stroke-linejoin:round; stroke-width:4; stroke-opacity:1; fill:none\" points=\"\n",
       "  193.936,1106.28 212.834,1106.28 \n",
       "  \"/>\n",
       "<polyline clip-path=\"url(#clip530)\" style=\"stroke:#000000; stroke-linecap:butt; stroke-linejoin:round; stroke-width:4; stroke-opacity:1; fill:none\" points=\"\n",
       "  193.936,766.846 212.834,766.846 \n",
       "  \"/>\n",
       "<polyline clip-path=\"url(#clip530)\" style=\"stroke:#000000; stroke-linecap:butt; stroke-linejoin:round; stroke-width:4; stroke-opacity:1; fill:none\" points=\"\n",
       "  193.936,427.411 212.834,427.411 \n",
       "  \"/>\n",
       "<polyline clip-path=\"url(#clip530)\" style=\"stroke:#000000; stroke-linecap:butt; stroke-linejoin:round; stroke-width:4; stroke-opacity:1; fill:none\" points=\"\n",
       "  193.936,87.9763 212.834,87.9763 \n",
       "  \"/>\n",
       "<path clip-path=\"url(#clip530)\" d=\"M50.9921 1446.17 L80.6679 1446.17 L80.6679 1450.1 L50.9921 1450.1 L50.9921 1446.17 Z\" fill=\"#000000\" fill-rule=\"evenodd\" fill-opacity=\"1\" /><path clip-path=\"url(#clip530)\" d=\"M91.5706 1459.06 L99.2095 1459.06 L99.2095 1432.7 L90.8993 1434.36 L90.8993 1430.1 L99.1632 1428.44 L103.839 1428.44 L103.839 1459.06 L111.478 1459.06 L111.478 1463 L91.5706 1463 L91.5706 1459.06 Z\" fill=\"#000000\" fill-rule=\"evenodd\" fill-opacity=\"1\" /><path clip-path=\"url(#clip530)\" d=\"M120.922 1457.12 L125.807 1457.12 L125.807 1463 L120.922 1463 L120.922 1457.12 Z\" fill=\"#000000\" fill-rule=\"evenodd\" fill-opacity=\"1\" /><path clip-path=\"url(#clip530)\" d=\"M145.992 1431.51 Q142.381 1431.51 140.552 1435.08 Q138.746 1438.62 138.746 1445.75 Q138.746 1452.86 140.552 1456.42 Q142.381 1459.96 145.992 1459.96 Q149.626 1459.96 151.431 1456.42 Q153.26 1452.86 153.26 1445.75 Q153.26 1438.62 151.431 1435.08 Q149.626 1431.51 145.992 1431.51 M145.992 1427.81 Q151.802 1427.81 154.857 1432.42 Q157.936 1437 157.936 1445.75 Q157.936 1454.48 154.857 1459.08 Q151.802 1463.67 145.992 1463.67 Q140.181 1463.67 137.103 1459.08 Q134.047 1454.48 134.047 1445.75 Q134.047 1437 137.103 1432.42 Q140.181 1427.81 145.992 1427.81 Z\" fill=\"#000000\" fill-rule=\"evenodd\" fill-opacity=\"1\" /><path clip-path=\"url(#clip530)\" d=\"M51.9875 1106.73 L81.6633 1106.73 L81.6633 1110.67 L51.9875 1110.67 L51.9875 1106.73 Z\" fill=\"#000000\" fill-rule=\"evenodd\" fill-opacity=\"1\" /><path clip-path=\"url(#clip530)\" d=\"M101.756 1092.08 Q98.1447 1092.08 96.316 1095.64 Q94.5104 1099.19 94.5104 1106.32 Q94.5104 1113.42 96.316 1116.99 Q98.1447 1120.53 101.756 1120.53 Q105.39 1120.53 107.196 1116.99 Q109.024 1113.42 109.024 1106.32 Q109.024 1099.19 107.196 1095.64 Q105.39 1092.08 101.756 1092.08 M101.756 1088.38 Q107.566 1088.38 110.621 1092.98 Q113.7 1097.57 113.7 1106.32 Q113.7 1115.04 110.621 1119.65 Q107.566 1124.23 101.756 1124.23 Q95.9456 1124.23 92.8669 1119.65 Q89.8114 1115.04 89.8114 1106.32 Q89.8114 1097.57 92.8669 1092.98 Q95.9456 1088.38 101.756 1088.38 Z\" fill=\"#000000\" fill-rule=\"evenodd\" fill-opacity=\"1\" /><path clip-path=\"url(#clip530)\" d=\"M121.918 1117.68 L126.802 1117.68 L126.802 1123.56 L121.918 1123.56 L121.918 1117.68 Z\" fill=\"#000000\" fill-rule=\"evenodd\" fill-opacity=\"1\" /><path clip-path=\"url(#clip530)\" d=\"M137.033 1089 L155.39 1089 L155.39 1092.94 L141.316 1092.94 L141.316 1101.41 Q142.334 1101.06 143.353 1100.9 Q144.371 1100.71 145.39 1100.71 Q151.177 1100.71 154.556 1103.89 Q157.936 1107.06 157.936 1112.47 Q157.936 1118.05 154.464 1121.15 Q150.992 1124.23 144.672 1124.23 Q142.496 1124.23 140.228 1123.86 Q137.982 1123.49 135.575 1122.75 L135.575 1118.05 Q137.658 1119.19 139.881 1119.74 Q142.103 1120.3 144.58 1120.3 Q148.584 1120.3 150.922 1118.19 Q153.26 1116.08 153.26 1112.47 Q153.26 1108.86 150.922 1106.76 Q148.584 1104.65 144.58 1104.65 Q142.705 1104.65 140.83 1105.07 Q138.978 1105.48 137.033 1106.36 L137.033 1089 Z\" fill=\"#000000\" fill-rule=\"evenodd\" fill-opacity=\"1\" /><path clip-path=\"url(#clip530)\" d=\"M100.76 752.645 Q97.1493 752.645 95.3206 756.21 Q93.515 759.751 93.515 766.881 Q93.515 773.987 95.3206 777.552 Q97.1493 781.094 100.76 781.094 Q104.395 781.094 106.2 777.552 Q108.029 773.987 108.029 766.881 Q108.029 759.751 106.2 756.21 Q104.395 752.645 100.76 752.645 M100.76 748.941 Q106.571 748.941 109.626 753.548 Q112.705 758.131 112.705 766.881 Q112.705 775.608 109.626 780.214 Q106.571 784.797 100.76 784.797 Q94.9502 784.797 91.8715 780.214 Q88.816 775.608 88.816 766.881 Q88.816 758.131 91.8715 753.548 Q94.9502 748.941 100.76 748.941 Z\" fill=\"#000000\" fill-rule=\"evenodd\" fill-opacity=\"1\" /><path clip-path=\"url(#clip530)\" d=\"M120.922 778.246 L125.807 778.246 L125.807 784.126 L120.922 784.126 L120.922 778.246 Z\" fill=\"#000000\" fill-rule=\"evenodd\" fill-opacity=\"1\" /><path clip-path=\"url(#clip530)\" d=\"M145.992 752.645 Q142.381 752.645 140.552 756.21 Q138.746 759.751 138.746 766.881 Q138.746 773.987 140.552 777.552 Q142.381 781.094 145.992 781.094 Q149.626 781.094 151.431 777.552 Q153.26 773.987 153.26 766.881 Q153.26 759.751 151.431 756.21 Q149.626 752.645 145.992 752.645 M145.992 748.941 Q151.802 748.941 154.857 753.548 Q157.936 758.131 157.936 766.881 Q157.936 775.608 154.857 780.214 Q151.802 784.797 145.992 784.797 Q140.181 784.797 137.103 780.214 Q134.047 775.608 134.047 766.881 Q134.047 758.131 137.103 753.548 Q140.181 748.941 145.992 748.941 Z\" fill=\"#000000\" fill-rule=\"evenodd\" fill-opacity=\"1\" /><path clip-path=\"url(#clip530)\" d=\"M101.756 413.21 Q98.1447 413.21 96.316 416.775 Q94.5104 420.316 94.5104 427.446 Q94.5104 434.552 96.316 438.117 Q98.1447 441.659 101.756 441.659 Q105.39 441.659 107.196 438.117 Q109.024 434.552 109.024 427.446 Q109.024 420.316 107.196 416.775 Q105.39 413.21 101.756 413.21 M101.756 409.506 Q107.566 409.506 110.621 414.113 Q113.7 418.696 113.7 427.446 Q113.7 436.173 110.621 440.779 Q107.566 445.362 101.756 445.362 Q95.9456 445.362 92.8669 440.779 Q89.8114 436.173 89.8114 427.446 Q89.8114 418.696 92.8669 414.113 Q95.9456 409.506 101.756 409.506 Z\" fill=\"#000000\" fill-rule=\"evenodd\" fill-opacity=\"1\" /><path clip-path=\"url(#clip530)\" d=\"M121.918 438.812 L126.802 438.812 L126.802 444.691 L121.918 444.691 L121.918 438.812 Z\" fill=\"#000000\" fill-rule=\"evenodd\" fill-opacity=\"1\" /><path clip-path=\"url(#clip530)\" d=\"M137.033 410.131 L155.39 410.131 L155.39 414.066 L141.316 414.066 L141.316 422.539 Q142.334 422.191 143.353 422.029 Q144.371 421.844 145.39 421.844 Q151.177 421.844 154.556 425.015 Q157.936 428.187 157.936 433.603 Q157.936 439.182 154.464 442.284 Q150.992 445.362 144.672 445.362 Q142.496 445.362 140.228 444.992 Q137.982 444.622 135.575 443.881 L135.575 439.182 Q137.658 440.316 139.881 440.872 Q142.103 441.427 144.58 441.427 Q148.584 441.427 150.922 439.321 Q153.26 437.214 153.26 433.603 Q153.26 429.992 150.922 427.886 Q148.584 425.779 144.58 425.779 Q142.705 425.779 140.83 426.196 Q138.978 426.613 137.033 427.492 L137.033 410.131 Z\" fill=\"#000000\" fill-rule=\"evenodd\" fill-opacity=\"1\" /><path clip-path=\"url(#clip530)\" d=\"M91.5706 101.321 L99.2095 101.321 L99.2095 74.9555 L90.8993 76.6222 L90.8993 72.3629 L99.1632 70.6963 L103.839 70.6963 L103.839 101.321 L111.478 101.321 L111.478 105.256 L91.5706 105.256 L91.5706 101.321 Z\" fill=\"#000000\" fill-rule=\"evenodd\" fill-opacity=\"1\" /><path clip-path=\"url(#clip530)\" d=\"M120.922 99.3767 L125.807 99.3767 L125.807 105.256 L120.922 105.256 L120.922 99.3767 Z\" fill=\"#000000\" fill-rule=\"evenodd\" fill-opacity=\"1\" /><path clip-path=\"url(#clip530)\" d=\"M145.992 73.775 Q142.381 73.775 140.552 77.3398 Q138.746 80.8814 138.746 88.011 Q138.746 95.1174 140.552 98.6822 Q142.381 102.224 145.992 102.224 Q149.626 102.224 151.431 98.6822 Q153.26 95.1174 153.26 88.011 Q153.26 80.8814 151.431 77.3398 Q149.626 73.775 145.992 73.775 M145.992 70.0713 Q151.802 70.0713 154.857 74.6777 Q157.936 79.261 157.936 88.011 Q157.936 96.7378 154.857 101.344 Q151.802 105.928 145.992 105.928 Q140.181 105.928 137.103 101.344 Q134.047 96.7378 134.047 88.011 Q134.047 79.261 137.103 74.6777 Q140.181 70.0713 145.992 70.0713 Z\" fill=\"#000000\" fill-rule=\"evenodd\" fill-opacity=\"1\" /><polyline clip-path=\"url(#clip532)\" style=\"stroke:#009af9; stroke-linecap:butt; stroke-linejoin:round; stroke-width:4; stroke-opacity:1; fill:none\" points=\"\n",
       "  255.035,87.9763 260.007,88.2958 264.979,89.2539 269.952,90.8498 274.924,93.0819 297.912,111.596 320.9,143.271 343.888,187.471 366.877,243.308 389.865,309.66 \n",
       "  412.853,385.195 435.841,468.396 458.829,557.591 486.459,670.191 514.089,785.594 541.719,900.453 569.348,1011.44 592.709,1099.87 616.07,1181.39 639.431,1254.31 \n",
       "  662.791,1317.12 688.167,1372.39 713.544,1412.84 738.92,1437.48 764.296,1445.72 787.691,1438.59 811.085,1417.49 834.48,1382.86 857.875,1335.42 882.956,1271.45 \n",
       "  908.038,1195.42 933.119,1109.14 958.201,1014.68 1016.32,777.101 1074.44,538.214 1100.26,439.687 1126.09,349.449 1151.91,269.787 1177.74,202.718 1200.38,155.618 \n",
       "  1223.03,120.433 1245.67,97.8474 1268.32,88.3026 1293.01,92.9672 1317.7,113.241 1342.39,148.655 1367.08,198.388 1391.92,261.698 1416.75,336.849 1441.59,422.079 \n",
       "  1466.43,515.39 1521.35,739.309 1576.27,966.361 1602.4,1067.93 1628.52,1161.69 1654.65,1245.21 1680.78,1316.33 1694.36,1347.78 1707.95,1375.14 1721.53,1398.24 \n",
       "  1735.11,1416.9 1748.7,1431 1762.28,1440.44 1775.86,1445.15 1789.45,1445.09 1812.31,1434.26 1835.18,1410.16 1858.05,1373.28 1880.92,1324.34 1908.84,1249.68 \n",
       "  1936.76,1160.73 1964.68,1060.12 1992.6,950.826 2045.09,733.296 2097.58,519.255 2118.61,439.567 2139.63,365.379 2160.65,297.937 2181.68,238.375 2202.7,187.692 \n",
       "  2223.73,146.742 2244.75,116.212 2265.77,96.6157 2272.24,92.8405 2278.72,90.1396 2285.19,88.5173 2291.66,87.9763 \n",
       "  \"/>\n",
       "<path clip-path=\"url(#clip530)\" d=\"\n",
       "M1902.8 198.898 L2280.8 198.898 L2280.8 95.2176 L1902.8 95.2176  Z\n",
       "  \" fill=\"#ffffff\" fill-rule=\"evenodd\" fill-opacity=\"1\"/>\n",
       "<polyline clip-path=\"url(#clip530)\" style=\"stroke:#000000; stroke-linecap:butt; stroke-linejoin:round; stroke-width:4; stroke-opacity:1; fill:none\" points=\"\n",
       "  1902.8,198.898 2280.8,198.898 2280.8,95.2176 1902.8,95.2176 1902.8,198.898 \n",
       "  \"/>\n",
       "<polyline clip-path=\"url(#clip530)\" style=\"stroke:#009af9; stroke-linecap:butt; stroke-linejoin:round; stroke-width:4; stroke-opacity:1; fill:none\" points=\"\n",
       "  1926.79,147.058 2070.71,147.058 \n",
       "  \"/>\n",
       "<path clip-path=\"url(#clip530)\" d=\"M2115.21 139.407 L2115.21 143.389 Q2113.4 142.393 2111.57 141.907 Q2109.77 141.398 2107.91 141.398 Q2103.77 141.398 2101.48 144.037 Q2099.19 146.652 2099.19 151.398 Q2099.19 156.143 2101.48 158.782 Q2103.77 161.398 2107.91 161.398 Q2109.77 161.398 2111.57 160.912 Q2113.4 160.402 2115.21 159.407 L2115.21 163.342 Q2113.42 164.176 2111.5 164.592 Q2109.6 165.009 2107.45 165.009 Q2101.6 165.009 2098.15 161.328 Q2094.7 157.648 2094.7 151.398 Q2094.7 145.055 2098.17 141.421 Q2101.66 137.787 2107.73 137.787 Q2109.7 137.787 2111.57 138.203 Q2113.45 138.597 2115.21 139.407 Z\" fill=\"#000000\" fill-rule=\"evenodd\" fill-opacity=\"1\" /><path clip-path=\"url(#clip530)\" d=\"M2132.66 141.398 Q2129.23 141.398 2127.24 144.083 Q2125.25 146.745 2125.25 151.398 Q2125.25 156.051 2127.22 158.736 Q2129.21 161.398 2132.66 161.398 Q2136.06 161.398 2138.05 158.713 Q2140.04 156.027 2140.04 151.398 Q2140.04 146.791 2138.05 144.106 Q2136.06 141.398 2132.66 141.398 M2132.66 137.787 Q2138.22 137.787 2141.39 141.398 Q2144.56 145.009 2144.56 151.398 Q2144.56 157.764 2141.39 161.398 Q2138.22 165.009 2132.66 165.009 Q2127.08 165.009 2123.91 161.398 Q2120.76 157.764 2120.76 151.398 Q2120.76 145.009 2123.91 141.398 Q2127.08 137.787 2132.66 137.787 Z\" fill=\"#000000\" fill-rule=\"evenodd\" fill-opacity=\"1\" /><path clip-path=\"url(#clip530)\" d=\"M2168.15 139.176 L2168.15 143.203 Q2166.34 142.277 2164.4 141.815 Q2162.45 141.352 2160.37 141.352 Q2157.2 141.352 2155.6 142.324 Q2154.03 143.296 2154.03 145.24 Q2154.03 146.722 2155.16 147.578 Q2156.29 148.412 2159.72 149.176 L2161.18 149.5 Q2165.72 150.472 2167.61 152.254 Q2169.53 154.014 2169.53 157.185 Q2169.53 160.796 2166.66 162.902 Q2163.82 165.009 2158.82 165.009 Q2156.73 165.009 2154.47 164.592 Q2152.22 164.199 2149.72 163.388 L2149.72 158.99 Q2152.08 160.217 2154.37 160.842 Q2156.66 161.444 2158.91 161.444 Q2161.92 161.444 2163.54 160.426 Q2165.16 159.384 2165.16 157.509 Q2165.16 155.773 2163.98 154.847 Q2162.82 153.921 2158.86 153.064 L2157.38 152.717 Q2153.42 151.884 2151.66 150.171 Q2149.91 148.435 2149.91 145.426 Q2149.91 141.768 2152.5 139.778 Q2155.09 137.787 2159.86 137.787 Q2162.22 137.787 2164.3 138.134 Q2166.39 138.481 2168.15 139.176 Z\" fill=\"#000000\" fill-rule=\"evenodd\" fill-opacity=\"1\" /><path clip-path=\"url(#clip530)\" d=\"M2186.55 128.366 Q2183.45 133.69 2181.94 138.898 Q2180.44 144.106 2180.44 149.453 Q2180.44 154.801 2181.94 160.055 Q2183.47 165.287 2186.55 170.588 L2182.84 170.588 Q2179.37 165.148 2177.64 159.893 Q2175.92 154.639 2175.92 149.453 Q2175.92 144.291 2177.64 139.06 Q2179.35 133.828 2182.84 128.366 L2186.55 128.366 Z\" fill=\"#000000\" fill-rule=\"evenodd\" fill-opacity=\"1\" /><path clip-path=\"url(#clip530)\" d=\"M2216.36 138.412 L2206.99 151.027 L2216.85 164.338 L2211.83 164.338 L2204.28 154.152 L2196.73 164.338 L2191.71 164.338 L2201.78 150.773 L2192.57 138.412 L2197.59 138.412 L2204.47 147.648 L2211.34 138.412 L2216.36 138.412 Z\" fill=\"#000000\" fill-rule=\"evenodd\" fill-opacity=\"1\" /><path clip-path=\"url(#clip530)\" d=\"M2222.2 128.366 L2225.9 128.366 Q2229.37 133.828 2231.09 139.06 Q2232.82 144.291 2232.82 149.453 Q2232.82 154.639 2231.09 159.893 Q2229.37 165.148 2225.9 170.588 L2222.2 170.588 Q2225.28 165.287 2226.78 160.055 Q2228.31 154.801 2228.31 149.453 Q2228.31 144.106 2226.78 138.898 Q2225.28 133.69 2222.2 128.366 Z\" fill=\"#000000\" fill-rule=\"evenodd\" fill-opacity=\"1\" /></svg>\n"
      ]
     },
     "metadata": {},
     "output_type": "display_data"
    }
   ],
   "source": [
    "plot(cos, -2π, 2π, label = \"cos(x)\")"
   ]
  },
  {
   "cell_type": "markdown",
   "id": "b568ef4b",
   "metadata": {},
   "source": [
    "You’ll see something like this (although the style of plot depends on your\n",
    "installation)\n",
    "\n",
    "![https://julia.quantecon.org/_static/figures/nb4_julia.png](https://julia.quantecon.org/_static/figures/nb4_julia.png)\n",
    "\n",
    "  \n",
    "If this code fails to work because the `Plots` package is missing, then either you\n",
    "\n",
    "1. did not [install the packages](#install-packages) in the previous lecture  \n",
    "  - You should go back and follow the [install the packages](#install-packages) instructions, or just call `using Pkg; Pkg.instantiate()` in a new cell.  \n",
    "1. downloaded or moved this notebook rather than [cloning the notebook repository](#clone-lectures).  In that case, it does not have the associated `Project.toml` file local to it.  \n",
    "  - Consider [cloning the notebook repository](#clone-lectures) instead.  \n",
    "  - If you would prefer not, then you can manually install packages as you need them.  For example, in this case you could type `] add Plots` into a code cell in the notebook or into your Julia REPL.  "
   ]
  },
  {
   "cell_type": "markdown",
   "id": "804050a8",
   "metadata": {},
   "source": [
    "### Working with the Notebook\n",
    "\n",
    "Let’s go over some more Jupyter notebook features — enough so that we can press ahead with programming."
   ]
  },
  {
   "cell_type": "markdown",
   "id": "9776301f",
   "metadata": {},
   "source": [
    "#### Tab Completion\n",
    "\n",
    "Tab completion in Jupyter makes it easy to find Julia commands and functions available.\n",
    "\n",
    "For example if you type `rep` and hit the tab key you’ll get a list of all\n",
    "commands that start with `rep`\n",
    "\n",
    "![https://julia.quantecon.org/_static/figures/nb5_julia.png](https://julia.quantecon.org/_static/figures/nb5_julia.png)\n",
    "\n",
    "  \n",
    "\n",
    "<a id='gs-help'></a>"
   ]
  },
  {
   "cell_type": "markdown",
   "id": "082e2f07",
   "metadata": {},
   "source": [
    "#### Getting Help\n",
    "\n",
    "To get help on the Julia function such as `repeat`, enter `? repeat`.\n",
    "\n",
    "Documentation should now appear in the browser\n",
    "\n",
    "![https://julia.quantecon.org/_static/figures/repeatexample.png](https://julia.quantecon.org/_static/figures/repeatexample.png)"
   ]
  },
  {
   "cell_type": "markdown",
   "id": "9ecf9471",
   "metadata": {},
   "source": [
    "#### Other Content\n",
    "\n",
    "In addition to executing code, the Jupyter notebook allows you to embed text, equations, figures and even videos in the page.\n",
    "\n",
    "For example, here we enter a mixture of plain text and LaTeX instead of code\n",
    "\n",
    "![https://julia.quantecon.org/_static/figures/nb6_julia.png](https://julia.quantecon.org/_static/figures/nb6_julia.png)\n",
    "\n",
    "  \n",
    "Next we `Esc` to enter command mode and then type `m` to indicate that we\n",
    "are writing [Markdown](http://daringfireball.net/projects/markdown/), a mark-up language similar to (but simpler than) LaTeX.\n",
    "\n",
    "(You can also use your mouse to select `Markdown` from the `Code` drop-down box just below the list of menu items)\n",
    "\n",
    "Now we `Shift + Enter` to produce this\n",
    "\n",
    "![https://julia.quantecon.org/_static/figures/nb7_julia.png](https://julia.quantecon.org/_static/figures/nb7_julia.png)"
   ]
  },
  {
   "cell_type": "markdown",
   "id": "e259ef8e",
   "metadata": {},
   "source": [
    "#### Inserting Unicode (e.g. Greek letters)\n",
    "\n",
    "Julia supports the use of [unicode characters](https://docs.julialang.org/en/v1/manual/unicode-input/)\n",
    "such as `α` and `β` in your code.\n",
    "\n",
    "Unicode characters can be typed quickly in Jupyter using the `tab` key.\n",
    "\n",
    "Try creating a new code cell and typing `\\alpha`, then hitting the `tab` key on your keyboard.\n",
    "\n",
    "There are other operators with a mathematical notation.  For example, the `LinearAlgebra` package has a `dot` function as identical to the latex `\\cdot`."
   ]
  },
  {
   "cell_type": "code",
   "execution_count": null,
   "id": "56e20ee3",
   "metadata": {
    "hide-output": false
   },
   "outputs": [],
   "source": [
    "using LinearAlgebra\n",
    "x = [1, 2]\n",
    "y = [3, 4]\n",
    "@show dot(x, y)\n",
    "@show x⋅y;"
   ]
  },
  {
   "cell_type": "markdown",
   "id": "162fe4af",
   "metadata": {},
   "source": [
    "#### Shell Commands\n",
    "\n",
    "You can execute shell commands (system commands) in Jupyter by prepending a semicolon.\n",
    "\n",
    "For example, `; ls` will execute the UNIX style shell command `ls`,\n",
    "which — at least for UNIX style operating systems — lists the\n",
    "contents of the current working directory.\n",
    "\n",
    "These shell commands are handled by your default system shell and hence are platform specific."
   ]
  },
  {
   "cell_type": "markdown",
   "id": "3f96cbfb",
   "metadata": {},
   "source": [
    "#### Package Operations\n",
    "\n",
    "You can execute package operations in the notebook by prepending a `]`.\n",
    "\n",
    "For example, `] st` will give the status of installed packages in the current environment.\n",
    "\n",
    "**Note**: Cells where you use `;` and `]` must not have any other instructions in them (i.e., they should be one-liners)."
   ]
  },
  {
   "cell_type": "markdown",
   "id": "e3057e27",
   "metadata": {},
   "source": [
    "### Sharing Notebooks\n",
    "\n",
    "Notebook files are just text files structured in [JSON](https://en.wikipedia.org/wiki/JSON) and typically end with `.ipynb`.\n",
    "\n",
    "A notebook can easily be saved and shared between users — you just need to\n",
    "pass around the `ipynb` file.\n",
    "\n",
    "To open an existing `ipynb` file, import it from the dashboard (the first\n",
    "browser page that opens when you start Jupyter notebook) and run the cells or edit as discussed above.\n",
    "\n",
    "The Jupyter organization has a site for sharing notebooks called [nbviewer](http://nbviewer.jupyter.org/)\n",
    "which provides a static HTML representations of notebooks.\n",
    "\n",
    "QuantEcon also hosts the [QuantEcon Notes](http://notes.quantecon.org/) website, where you can upload and share your notebooks with other economists and the QuantEcon community."
   ]
  }
 ],
 "metadata": {
  "date": 1635274499.997506,
  "filename": "getting_started.md",
  "kernelspec": {
   "display_name": "Julia 1.6.3",
   "language": "julia",
   "name": "julia-1.6"
  },
  "language_info": {
   "file_extension": ".jl",
   "mimetype": "application/julia",
   "name": "julia",
   "version": "1.6.3"
  },
  "title": "Setting up Your Julia Environment"
 },
 "nbformat": 4,
 "nbformat_minor": 5
}
